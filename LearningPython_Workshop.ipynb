{
  "nbformat": 4,
  "nbformat_minor": 0,
  "metadata": {
    "colab": {
      "name": "LearningPython-Workshop.ipynb",
      "provenance": [],
      "collapsed_sections": []
    },
    "kernelspec": {
      "name": "python3",
      "display_name": "Python 3"
    },
    "language_info": {
      "name": "python"
    }
  },
  "cells": [
    {
      "cell_type": "markdown",
      "source": [
        "#Learning Python"
      ],
      "metadata": {
        "id": "if1gUpNBFB1Q"
      }
    },
    {
      "cell_type": "markdown",
      "source": [
        "This notebook is for learning basic Python syntax."
      ],
      "metadata": {
        "id": "u2RMUn1iFWHX"
      }
    },
    {
      "cell_type": "markdown",
      "source": [
        "##Basic datatypes"
      ],
      "metadata": {
        "id": "mVSXjkTbHQx5"
      }
    },
    {
      "cell_type": "code",
      "source": [
        "x = 10\n",
        "y = 20\n",
        "hello = \"Hello\"\n",
        "print(x,y,hello,sep=\" \", end=\"\")\n",
        "print(x,y,hello,sep=\" \")"
      ],
      "metadata": {
        "colab": {
          "base_uri": "https://localhost:8080/"
        },
        "id": "l7yfhxtmFHOW",
        "outputId": "3865b6e9-faec-446e-f690-ee9a28511f87"
      },
      "execution_count": null,
      "outputs": [
        {
          "output_type": "stream",
          "name": "stdout",
          "text": [
            "10 20 Hello10 20 Hello\n"
          ]
        }
      ]
    },
    {
      "cell_type": "code",
      "source": [
        "x = 10\n",
        "y = 20.34\n",
        "hello = \"Hello\"\n",
        "print(type(x), type(y), type(hello))"
      ],
      "metadata": {
        "colab": {
          "base_uri": "https://localhost:8080/"
        },
        "id": "dpIfBTbNFzew",
        "outputId": "b3d82799-00b3-40f7-fc5e-c1d4f4b4400c"
      },
      "execution_count": null,
      "outputs": [
        {
          "output_type": "stream",
          "name": "stdout",
          "text": [
            "<class 'int'> <class 'float'> <class 'str'>\n"
          ]
        }
      ]
    },
    {
      "cell_type": "code",
      "source": [
        "#You can store as big a number as you want in python\n",
        "z = 9320493094093430943943043940934049"
      ],
      "metadata": {
        "id": "DGUchVHEGgP2"
      },
      "execution_count": null,
      "outputs": []
    },
    {
      "cell_type": "markdown",
      "source": [
        "##Basic DataStructures"
      ],
      "metadata": {
        "id": "vhjx05XFHVMq"
      }
    },
    {
      "cell_type": "code",
      "source": [
        "#Lists\n",
        "\n",
        "list1 = [2,9,6,7,5,4,3]\n",
        "list1"
      ],
      "metadata": {
        "colab": {
          "base_uri": "https://localhost:8080/"
        },
        "id": "aNij9e8DHYXQ",
        "outputId": "8c4b6c77-b1d5-4680-d06c-5528a02a0632"
      },
      "execution_count": null,
      "outputs": [
        {
          "output_type": "execute_result",
          "data": {
            "text/plain": [
              "[2, 9, 6, 7, 5, 4, 3]"
            ]
          },
          "metadata": {},
          "execution_count": 20
        }
      ]
    },
    {
      "cell_type": "code",
      "source": [
        "print(list1[0])\n",
        "list1[0] = 0\n",
        "list1[0]"
      ],
      "metadata": {
        "colab": {
          "base_uri": "https://localhost:8080/"
        },
        "id": "P1lTmucGMlO8",
        "outputId": "aa672100-6e8c-4504-e591-af415619ad05"
      },
      "execution_count": null,
      "outputs": [
        {
          "output_type": "stream",
          "name": "stdout",
          "text": [
            "2\n"
          ]
        },
        {
          "output_type": "execute_result",
          "data": {
            "text/plain": [
              "0"
            ]
          },
          "metadata": {},
          "execution_count": 21
        }
      ]
    },
    {
      "cell_type": "code",
      "source": [
        "#Tuple (Immutable)\n",
        "\n",
        "tuple1 = (2,9,6,7,5,4,3)\n",
        "len(tuple1)"
      ],
      "metadata": {
        "colab": {
          "base_uri": "https://localhost:8080/"
        },
        "id": "BAMfYIjSMQt7",
        "outputId": "c6da6bd5-f8ab-4805-9beb-b0ec3117a855"
      },
      "execution_count": null,
      "outputs": [
        {
          "output_type": "execute_result",
          "data": {
            "text/plain": [
              "7"
            ]
          },
          "metadata": {},
          "execution_count": 15
        }
      ]
    },
    {
      "cell_type": "code",
      "source": [
        "tuple1[0] = 0"
      ],
      "metadata": {
        "colab": {
          "base_uri": "https://localhost:8080/",
          "height": 165
        },
        "id": "81ZkcO4KMxAp",
        "outputId": "6bc57bf1-1d17-4817-833b-8488d197e965"
      },
      "execution_count": null,
      "outputs": [
        {
          "output_type": "error",
          "ename": "TypeError",
          "evalue": "ignored",
          "traceback": [
            "\u001b[0;31m---------------------------------------------------------------------------\u001b[0m",
            "\u001b[0;31mTypeError\u001b[0m                                 Traceback (most recent call last)",
            "\u001b[0;32m<ipython-input-22-2ea670710ca5>\u001b[0m in \u001b[0;36m<module>\u001b[0;34m()\u001b[0m\n\u001b[0;32m----> 1\u001b[0;31m \u001b[0mtuple1\u001b[0m\u001b[0;34m[\u001b[0m\u001b[0;36m0\u001b[0m\u001b[0;34m]\u001b[0m \u001b[0;34m=\u001b[0m \u001b[0;36m0\u001b[0m\u001b[0;34m\u001b[0m\u001b[0;34m\u001b[0m\u001b[0m\n\u001b[0m",
            "\u001b[0;31mTypeError\u001b[0m: 'tuple' object does not support item assignment"
          ]
        }
      ]
    },
    {
      "cell_type": "code",
      "source": [
        "#Set\n",
        "\n",
        "set1 = {2,4,5}\n",
        "set1"
      ],
      "metadata": {
        "colab": {
          "base_uri": "https://localhost:8080/"
        },
        "id": "OquJMpXcM6HO",
        "outputId": "d09bd731-4aa8-410d-bda7-f5d57fc7d330"
      },
      "execution_count": null,
      "outputs": [
        {
          "output_type": "execute_result",
          "data": {
            "text/plain": [
              "{2, 4, 5}"
            ]
          },
          "metadata": {},
          "execution_count": 23
        }
      ]
    },
    {
      "cell_type": "code",
      "source": [
        "set2 = {2,4,5,5,4,2}\n",
        "set2"
      ],
      "metadata": {
        "colab": {
          "base_uri": "https://localhost:8080/"
        },
        "id": "wOfsKC0MNP_S",
        "outputId": "eac4e201-1314-4c2d-a6ad-229dab4c1d36"
      },
      "execution_count": null,
      "outputs": [
        {
          "output_type": "execute_result",
          "data": {
            "text/plain": [
              "{2, 4, 5}"
            ]
          },
          "metadata": {},
          "execution_count": 24
        }
      ]
    },
    {
      "cell_type": "code",
      "source": [
        "list2 = [1,2,2,3,3]\n",
        "set2 = set(list2)\n",
        "set2"
      ],
      "metadata": {
        "colab": {
          "base_uri": "https://localhost:8080/"
        },
        "id": "z8bJMDYZNS6e",
        "outputId": "896d63ac-a74b-4551-8032-a384acd95394"
      },
      "execution_count": null,
      "outputs": [
        {
          "output_type": "execute_result",
          "data": {
            "text/plain": [
              "{1, 2, 3}"
            ]
          },
          "metadata": {},
          "execution_count": 26
        }
      ]
    },
    {
      "cell_type": "code",
      "source": [
        "#Dictionary\n",
        "\n",
        "favorite_foods = {\n",
        "    \"Ron\" : \"Magic Frog\",\n",
        "    \"Harry\":\"Butterbeer\",\n",
        "    \"Hermione\":\"Dragons\",\n",
        "    5:\"8\"\n",
        "}"
      ],
      "metadata": {
        "id": "mV6EdKyLNawX"
      },
      "execution_count": null,
      "outputs": []
    },
    {
      "cell_type": "code",
      "source": [
        "favorite_foods[5]"
      ],
      "metadata": {
        "colab": {
          "base_uri": "https://localhost:8080/",
          "height": 35
        },
        "id": "ndhx4zgTNsI8",
        "outputId": "f8b26123-9e98-4887-84c0-a6cf6f953b01"
      },
      "execution_count": null,
      "outputs": [
        {
          "output_type": "execute_result",
          "data": {
            "text/plain": [
              "'8'"
            ],
            "application/vnd.google.colaboratory.intrinsic+json": {
              "type": "string"
            }
          },
          "metadata": {},
          "execution_count": 34
        }
      ]
    },
    {
      "cell_type": "markdown",
      "source": [
        "##Conditionals"
      ],
      "metadata": {
        "id": "c2_Em_jxOfNb"
      }
    },
    {
      "cell_type": "code",
      "source": [
        "x = 100\n",
        "if x>90:\n",
        "  print(\"A\")\n",
        "elif x>80:\n",
        "  print(\"B\")\n",
        "elif x>60 and x<79:\n",
        "  print(\"C\")\n",
        "else:\n",
        "  print(\"F\")"
      ],
      "metadata": {
        "colab": {
          "base_uri": "https://localhost:8080/"
        },
        "id": "9wTz8dhdOg94",
        "outputId": "d6a2c140-ef9c-433c-9608-23404403d7c6"
      },
      "execution_count": null,
      "outputs": [
        {
          "output_type": "stream",
          "name": "stdout",
          "text": [
            "A\n"
          ]
        }
      ]
    },
    {
      "cell_type": "code",
      "source": [
        "import this"
      ],
      "metadata": {
        "colab": {
          "base_uri": "https://localhost:8080/"
        },
        "id": "puPjw03MO7bs",
        "outputId": "8ee51ce1-ae8c-4416-a632-cf2b482e19be"
      },
      "execution_count": null,
      "outputs": [
        {
          "output_type": "stream",
          "name": "stdout",
          "text": [
            "The Zen of Python, by Tim Peters\n",
            "\n",
            "Beautiful is better than ugly.\n",
            "Explicit is better than implicit.\n",
            "Simple is better than complex.\n",
            "Complex is better than complicated.\n",
            "Flat is better than nested.\n",
            "Sparse is better than dense.\n",
            "Readability counts.\n",
            "Special cases aren't special enough to break the rules.\n",
            "Although practicality beats purity.\n",
            "Errors should never pass silently.\n",
            "Unless explicitly silenced.\n",
            "In the face of ambiguity, refuse the temptation to guess.\n",
            "There should be one-- and preferably only one --obvious way to do it.\n",
            "Although that way may not be obvious at first unless you're Dutch.\n",
            "Now is better than never.\n",
            "Although never is often better than *right* now.\n",
            "If the implementation is hard to explain, it's a bad idea.\n",
            "If the implementation is easy to explain, it may be a good idea.\n",
            "Namespaces are one honking great idea -- let's do more of those!\n"
          ]
        }
      ]
    },
    {
      "cell_type": "markdown",
      "source": [
        "##Loops"
      ],
      "metadata": {
        "id": "jZovgdp6PV2L"
      }
    },
    {
      "cell_type": "code",
      "source": [
        "numbers = [2,3,4,5,6,7]\n",
        "'''This is a comment block\n",
        "slslsllssl'''\n",
        "for number in numbers:\n",
        "  print(number)"
      ],
      "metadata": {
        "id": "FCbNJZejPXW_",
        "colab": {
          "base_uri": "https://localhost:8080/"
        },
        "outputId": "f0c04225-275f-4768-ae1b-5b5c9a19cf69"
      },
      "execution_count": 40,
      "outputs": [
        {
          "output_type": "stream",
          "name": "stdout",
          "text": [
            "2\n",
            "3\n",
            "4\n",
            "5\n",
            "6\n",
            "7\n"
          ]
        }
      ]
    },
    {
      "cell_type": "code",
      "source": [
        "for i in range(0,10,2):\n",
        "  print(i)"
      ],
      "metadata": {
        "id": "-qh8F1KTQOOO",
        "colab": {
          "base_uri": "https://localhost:8080/"
        },
        "outputId": "6dbdf197-99f8-4879-b137-cb7b2b8d77e8"
      },
      "execution_count": 41,
      "outputs": [
        {
          "output_type": "stream",
          "name": "stdout",
          "text": [
            "0\n",
            "2\n",
            "4\n",
            "6\n",
            "8\n"
          ]
        }
      ]
    },
    {
      "cell_type": "code",
      "source": [
        "for i in range(len(numbers)):\n",
        "  print(numbers[i])"
      ],
      "metadata": {
        "id": "LzSpYARKQXel",
        "colab": {
          "base_uri": "https://localhost:8080/"
        },
        "outputId": "ecacc8d5-bbc8-42ec-a871-e19a916117e0"
      },
      "execution_count": 43,
      "outputs": [
        {
          "output_type": "stream",
          "name": "stdout",
          "text": [
            "2\n",
            "3\n",
            "4\n",
            "5\n",
            "6\n",
            "7\n"
          ]
        }
      ]
    },
    {
      "cell_type": "code",
      "source": [
        "names = [\"Harry\",\"Ron\",\"Hermione\"]\n",
        "for i, name in enumerate(names):\n",
        "  print(i, name)"
      ],
      "metadata": {
        "colab": {
          "base_uri": "https://localhost:8080/"
        },
        "id": "UnHpuvFtUaaq",
        "outputId": "7f9cef2d-28f1-4e8d-8553-333b73c5185d"
      },
      "execution_count": 46,
      "outputs": [
        {
          "output_type": "stream",
          "name": "stdout",
          "text": [
            "0 Harry\n",
            "1 Ron\n",
            "2 Hermione\n"
          ]
        }
      ]
    },
    {
      "cell_type": "code",
      "source": [
        "tup = (1,2)\n",
        "x, y = tup\n",
        "y"
      ],
      "metadata": {
        "colab": {
          "base_uri": "https://localhost:8080/"
        },
        "id": "iTIHCg5CU5KK",
        "outputId": "e4b39b37-098c-4004-820f-de0ddd047946"
      },
      "execution_count": 48,
      "outputs": [
        {
          "output_type": "execute_result",
          "data": {
            "text/plain": [
              "2"
            ]
          },
          "metadata": {},
          "execution_count": 48
        }
      ]
    },
    {
      "cell_type": "code",
      "source": [
        "a = 1\n",
        "b = 2\n",
        "a, b = b, a\n",
        "print(a, b)"
      ],
      "metadata": {
        "colab": {
          "base_uri": "https://localhost:8080/"
        },
        "id": "Cqyz1UkMVLiR",
        "outputId": "a228bc73-7011-4efc-a65c-9906cdd0bf16"
      },
      "execution_count": 49,
      "outputs": [
        {
          "output_type": "stream",
          "name": "stdout",
          "text": [
            "2 1\n"
          ]
        }
      ]
    },
    {
      "cell_type": "markdown",
      "source": [
        "# PyTorch"
      ],
      "metadata": {
        "id": "tHOIEvJ9VBQB"
      }
    },
    {
      "cell_type": "code",
      "source": [
        "import torch\n",
        "import matplotlib.pyplot as plt\n"
      ],
      "metadata": {
        "id": "IXeSWnqdVE2p"
      },
      "execution_count": 55,
      "outputs": []
    },
    {
      "cell_type": "code",
      "source": [
        "img1 = [\n",
        "        [1,0,1],\n",
        "        [0,1,0],\n",
        "        [1,0,1]\n",
        "]\n",
        "img2 = [\n",
        "        [0,0.5],\n",
        "        [0.8,1]\n",
        "]\n",
        "img3 = [\n",
        "        [[1,0,0],[0,1,0]],\n",
        "        [[0,0,1],[1,0,1]]\n",
        "]\n",
        "img4 = [\n",
        "        [[0,1,0],[0,1,0],[0,1,0]],\n",
        "        [[0,1,0],[1,0,0],[0,1,0]],\n",
        "        [[0,1,0],[0,1,0],[0,1,0]]\n",
        "]"
      ],
      "metadata": {
        "id": "3EwZXNc0YJRi"
      },
      "execution_count": 82,
      "outputs": []
    },
    {
      "cell_type": "code",
      "source": [
        "def show_image(pixels, cmap=\"Greys_r\"):\n",
        "  img_t = torch.tensor(pixels, dtype=torch.float32)\n",
        "  plt.imshow(img_t, interpolation='nearest', cmap=cmap, vmin=0, vmax=1)"
      ],
      "metadata": {
        "id": "2-r8qS3aYajq"
      },
      "execution_count": 58,
      "outputs": []
    },
    {
      "cell_type": "code",
      "source": [
        "show_image(img4, cmap=None)"
      ],
      "metadata": {
        "colab": {
          "base_uri": "https://localhost:8080/",
          "height": 269
        },
        "id": "AP47fZsxY_Nd",
        "outputId": "4f53d8f6-fb21-4f33-a60d-5b811a0f9141"
      },
      "execution_count": 83,
      "outputs": [
        {
          "output_type": "display_data",
          "data": {
            "text/plain": [
              "<Figure size 432x288 with 1 Axes>"
            ],
            "image/png": "[encoded data removed]"
          },
          "metadata": {
            "needs_background": "light"
          }
        }
      ]
    }
  ]
}