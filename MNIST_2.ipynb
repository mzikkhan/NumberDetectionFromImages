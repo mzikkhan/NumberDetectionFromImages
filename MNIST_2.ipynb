{
  "nbformat": 4,
  "nbformat_minor": 0,
  "metadata": {
    "colab": {
      "name": "MNIST-2.ipynb",
      "provenance": [],
      "collapsed_sections": [
        "_2Ujb65RelFL"
      ]
    },
    "kernelspec": {
      "name": "python3",
      "display_name": "Python 3"
    },
    "language_info": {
      "name": "python"
    },
    "widgets": {
      "application/vnd.jupyter.widget-state+json": {
        "22b06e9ad9b946118e2ea2867aad4e32": {
          "model_module": "@jupyter-widgets/controls",
          "model_name": "HBoxModel",
          "model_module_version": "1.5.0",
          "state": {
            "_dom_classes": [],
            "_model_module": "@jupyter-widgets/controls",
            "_model_module_version": "1.5.0",
            "_model_name": "HBoxModel",
            "_view_count": null,
            "_view_module": "@jupyter-widgets/controls",
            "_view_module_version": "1.5.0",
            "_view_name": "HBoxView",
            "box_style": "",
            "children": [
              "IPY_MODEL_ada110d408164f46ad9078e98b5a4bfb",
              "IPY_MODEL_444c4c3df886447ea5406a58277ba3a9",
              "IPY_MODEL_fb84841da01043deb10b70868794d61a"
            ],
            "layout": "IPY_MODEL_ce35f812cf4944aba88727b69e84657a"
          }
        },
        "ada110d408164f46ad9078e98b5a4bfb": {
          "model_module": "@jupyter-widgets/controls",
          "model_name": "HTMLModel",
          "model_module_version": "1.5.0",
          "state": {
            "_dom_classes": [],
            "_model_module": "@jupyter-widgets/controls",
            "_model_module_version": "1.5.0",
            "_model_name": "HTMLModel",
            "_view_count": null,
            "_view_module": "@jupyter-widgets/controls",
            "_view_module_version": "1.5.0",
            "_view_name": "HTMLView",
            "description": "",
            "description_tooltip": null,
            "layout": "IPY_MODEL_7536ddaf5ef54531bd1441ec86a24348",
            "placeholder": "​",
            "style": "IPY_MODEL_8c16713b61c7453882b243711929b97a",
            "value": ""
          }
        },
        "444c4c3df886447ea5406a58277ba3a9": {
          "model_module": "@jupyter-widgets/controls",
          "model_name": "FloatProgressModel",
          "model_module_version": "1.5.0",
          "state": {
            "_dom_classes": [],
            "_model_module": "@jupyter-widgets/controls",
            "_model_module_version": "1.5.0",
            "_model_name": "FloatProgressModel",
            "_view_count": null,
            "_view_module": "@jupyter-widgets/controls",
            "_view_module_version": "1.5.0",
            "_view_name": "ProgressView",
            "bar_style": "success",
            "description": "",
            "description_tooltip": null,
            "layout": "IPY_MODEL_2eded87deefe4f2da8aa99bc98a6f5eb",
            "max": 9912422,
            "min": 0,
            "orientation": "horizontal",
            "style": "IPY_MODEL_d72a3bcf356a482ca708cdc30d65bfbf",
            "value": 9912422
          }
        },
        "fb84841da01043deb10b70868794d61a": {
          "model_module": "@jupyter-widgets/controls",
          "model_name": "HTMLModel",
          "model_module_version": "1.5.0",
          "state": {
            "_dom_classes": [],
            "_model_module": "@jupyter-widgets/controls",
            "_model_module_version": "1.5.0",
            "_model_name": "HTMLModel",
            "_view_count": null,
            "_view_module": "@jupyter-widgets/controls",
            "_view_module_version": "1.5.0",
            "_view_name": "HTMLView",
            "description": "",
            "description_tooltip": null,
            "layout": "IPY_MODEL_cda914c6f1d841a181d9e1c5bed097ee",
            "placeholder": "​",
            "style": "IPY_MODEL_f1513dd535e04708a8b7c1da3a3e4a67",
            "value": " 9913344/? [00:00&lt;00:00, 23177769.56it/s]"
          }
        },
        "ce35f812cf4944aba88727b69e84657a": {
          "model_module": "@jupyter-widgets/base",
          "model_name": "LayoutModel",
          "model_module_version": "1.2.0",
          "state": {
            "_model_module": "@jupyter-widgets/base",
            "_model_module_version": "1.2.0",
            "_model_name": "LayoutModel",
            "_view_count": null,
            "_view_module": "@jupyter-widgets/base",
            "_view_module_version": "1.2.0",
            "_view_name": "LayoutView",
            "align_content": null,
            "align_items": null,
            "align_self": null,
            "border": null,
            "bottom": null,
            "display": null,
            "flex": null,
            "flex_flow": null,
            "grid_area": null,
            "grid_auto_columns": null,
            "grid_auto_flow": null,
            "grid_auto_rows": null,
            "grid_column": null,
            "grid_gap": null,
            "grid_row": null,
            "grid_template_areas": null,
            "grid_template_columns": null,
            "grid_template_rows": null,
            "height": null,
            "justify_content": null,
            "justify_items": null,
            "left": null,
            "margin": null,
            "max_height": null,
            "max_width": null,
            "min_height": null,
            "min_width": null,
            "object_fit": null,
            "object_position": null,
            "order": null,
            "overflow": null,
            "overflow_x": null,
            "overflow_y": null,
            "padding": null,
            "right": null,
            "top": null,
            "visibility": null,
            "width": null
          }
        },
        "7536ddaf5ef54531bd1441ec86a24348": {
          "model_module": "@jupyter-widgets/base",
          "model_name": "LayoutModel",
          "model_module_version": "1.2.0",
          "state": {
            "_model_module": "@jupyter-widgets/base",
            "_model_module_version": "1.2.0",
            "_model_name": "LayoutModel",
            "_view_count": null,
            "_view_module": "@jupyter-widgets/base",
            "_view_module_version": "1.2.0",
            "_view_name": "LayoutView",
            "align_content": null,
            "align_items": null,
            "align_self": null,
            "border": null,
            "bottom": null,
            "display": null,
            "flex": null,
            "flex_flow": null,
            "grid_area": null,
            "grid_auto_columns": null,
            "grid_auto_flow": null,
            "grid_auto_rows": null,
            "grid_column": null,
            "grid_gap": null,
            "grid_row": null,
            "grid_template_areas": null,
            "grid_template_columns": null,
            "grid_template_rows": null,
            "height": null,
            "justify_content": null,
            "justify_items": null,
            "left": null,
            "margin": null,
            "max_height": null,
            "max_width": null,
            "min_height": null,
            "min_width": null,
            "object_fit": null,
            "object_position": null,
            "order": null,
            "overflow": null,
            "overflow_x": null,
            "overflow_y": null,
            "padding": null,
            "right": null,
            "top": null,
            "visibility": null,
            "width": null
          }
        },
        "8c16713b61c7453882b243711929b97a": {
          "model_module": "@jupyter-widgets/controls",
          "model_name": "DescriptionStyleModel",
          "model_module_version": "1.5.0",
          "state": {
            "_model_module": "@jupyter-widgets/controls",
            "_model_module_version": "1.5.0",
            "_model_name": "DescriptionStyleModel",
            "_view_count": null,
            "_view_module": "@jupyter-widgets/base",
            "_view_module_version": "1.2.0",
            "_view_name": "StyleView",
            "description_width": ""
          }
        },
        "2eded87deefe4f2da8aa99bc98a6f5eb": {
          "model_module": "@jupyter-widgets/base",
          "model_name": "LayoutModel",
          "model_module_version": "1.2.0",
          "state": {
            "_model_module": "@jupyter-widgets/base",
            "_model_module_version": "1.2.0",
            "_model_name": "LayoutModel",
            "_view_count": null,
            "_view_module": "@jupyter-widgets/base",
            "_view_module_version": "1.2.0",
            "_view_name": "LayoutView",
            "align_content": null,
            "align_items": null,
            "align_self": null,
            "border": null,
            "bottom": null,
            "display": null,
            "flex": null,
            "flex_flow": null,
            "grid_area": null,
            "grid_auto_columns": null,
            "grid_auto_flow": null,
            "grid_auto_rows": null,
            "grid_column": null,
            "grid_gap": null,
            "grid_row": null,
            "grid_template_areas": null,
            "grid_template_columns": null,
            "grid_template_rows": null,
            "height": null,
            "justify_content": null,
            "justify_items": null,
            "left": null,
            "margin": null,
            "max_height": null,
            "max_width": null,
            "min_height": null,
            "min_width": null,
            "object_fit": null,
            "object_position": null,
            "order": null,
            "overflow": null,
            "overflow_x": null,
            "overflow_y": null,
            "padding": null,
            "right": null,
            "top": null,
            "visibility": null,
            "width": null
          }
        },
        "d72a3bcf356a482ca708cdc30d65bfbf": {
          "model_module": "@jupyter-widgets/controls",
          "model_name": "ProgressStyleModel",
          "model_module_version": "1.5.0",
          "state": {
            "_model_module": "@jupyter-widgets/controls",
            "_model_module_version": "1.5.0",
            "_model_name": "ProgressStyleModel",
            "_view_count": null,
            "_view_module": "@jupyter-widgets/base",
            "_view_module_version": "1.2.0",
            "_view_name": "StyleView",
            "bar_color": null,
            "description_width": ""
          }
        },
        "cda914c6f1d841a181d9e1c5bed097ee": {
          "model_module": "@jupyter-widgets/base",
          "model_name": "LayoutModel",
          "model_module_version": "1.2.0",
          "state": {
            "_model_module": "@jupyter-widgets/base",
            "_model_module_version": "1.2.0",
            "_model_name": "LayoutModel",
            "_view_count": null,
            "_view_module": "@jupyter-widgets/base",
            "_view_module_version": "1.2.0",
            "_view_name": "LayoutView",
            "align_content": null,
            "align_items": null,
            "align_self": null,
            "border": null,
            "bottom": null,
            "display": null,
            "flex": null,
            "flex_flow": null,
            "grid_area": null,
            "grid_auto_columns": null,
            "grid_auto_flow": null,
            "grid_auto_rows": null,
            "grid_column": null,
            "grid_gap": null,
            "grid_row": null,
            "grid_template_areas": null,
            "grid_template_columns": null,
            "grid_template_rows": null,
            "height": null,
            "justify_content": null,
            "justify_items": null,
            "left": null,
            "margin": null,
            "max_height": null,
            "max_width": null,
            "min_height": null,
            "min_width": null,
            "object_fit": null,
            "object_position": null,
            "order": null,
            "overflow": null,
            "overflow_x": null,
            "overflow_y": null,
            "padding": null,
            "right": null,
            "top": null,
            "visibility": null,
            "width": null
          }
        },
        "f1513dd535e04708a8b7c1da3a3e4a67": {
          "model_module": "@jupyter-widgets/controls",
          "model_name": "DescriptionStyleModel",
          "model_module_version": "1.5.0",
          "state": {
            "_model_module": "@jupyter-widgets/controls",
            "_model_module_version": "1.5.0",
            "_model_name": "DescriptionStyleModel",
            "_view_count": null,
            "_view_module": "@jupyter-widgets/base",
            "_view_module_version": "1.2.0",
            "_view_name": "StyleView",
            "description_width": ""
          }
        },
        "7ce8eabdd4c04daf93e14904448c85fe": {
          "model_module": "@jupyter-widgets/controls",
          "model_name": "HBoxModel",
          "model_module_version": "1.5.0",
          "state": {
            "_dom_classes": [],
            "_model_module": "@jupyter-widgets/controls",
            "_model_module_version": "1.5.0",
            "_model_name": "HBoxModel",
            "_view_count": null,
            "_view_module": "@jupyter-widgets/controls",
            "_view_module_version": "1.5.0",
            "_view_name": "HBoxView",
            "box_style": "",
            "children": [
              "IPY_MODEL_8b73c6cc01c84d4ea19d7092b56524b0",
              "IPY_MODEL_fd3f10b8e2f441448142b8708f1e4dea",
              "IPY_MODEL_b657cef74f984c6dbbc6e0a18ebb26ae"
            ],
            "layout": "IPY_MODEL_483bb20af54f4c9188d47f4d34398d89"
          }
        },
        "8b73c6cc01c84d4ea19d7092b56524b0": {
          "model_module": "@jupyter-widgets/controls",
          "model_name": "HTMLModel",
          "model_module_version": "1.5.0",
          "state": {
            "_dom_classes": [],
            "_model_module": "@jupyter-widgets/controls",
            "_model_module_version": "1.5.0",
            "_model_name": "HTMLModel",
            "_view_count": null,
            "_view_module": "@jupyter-widgets/controls",
            "_view_module_version": "1.5.0",
            "_view_name": "HTMLView",
            "description": "",
            "description_tooltip": null,
            "layout": "IPY_MODEL_ed20b2f43f1b493e8ccb25c74d4437ee",
            "placeholder": "​",
            "style": "IPY_MODEL_fe0d2696826a43e88116c5c85d454a66",
            "value": ""
          }
        },
        "fd3f10b8e2f441448142b8708f1e4dea": {
          "model_module": "@jupyter-widgets/controls",
          "model_name": "FloatProgressModel",
          "model_module_version": "1.5.0",
          "state": {
            "_dom_classes": [],
            "_model_module": "@jupyter-widgets/controls",
            "_model_module_version": "1.5.0",
            "_model_name": "FloatProgressModel",
            "_view_count": null,
            "_view_module": "@jupyter-widgets/controls",
            "_view_module_version": "1.5.0",
            "_view_name": "ProgressView",
            "bar_style": "success",
            "description": "",
            "description_tooltip": null,
            "layout": "IPY_MODEL_0c4bc807dce24b5da5f1a8bb07cde6ca",
            "max": 28881,
            "min": 0,
            "orientation": "horizontal",
            "style": "IPY_MODEL_0925e43099e9482b870ef163d1d0a96a",
            "value": 28881
          }
        },
        "b657cef74f984c6dbbc6e0a18ebb26ae": {
          "model_module": "@jupyter-widgets/controls",
          "model_name": "HTMLModel",
          "model_module_version": "1.5.0",
          "state": {
            "_dom_classes": [],
            "_model_module": "@jupyter-widgets/controls",
            "_model_module_version": "1.5.0",
            "_model_name": "HTMLModel",
            "_view_count": null,
            "_view_module": "@jupyter-widgets/controls",
            "_view_module_version": "1.5.0",
            "_view_name": "HTMLView",
            "description": "",
            "description_tooltip": null,
            "layout": "IPY_MODEL_b8d865a0b1a34d45b9db991561c8b1dc",
            "placeholder": "​",
            "style": "IPY_MODEL_b30d0a42706c4f5081f23ec2647408c0",
            "value": " 29696/? [00:00&lt;00:00, 589515.68it/s]"
          }
        },
        "483bb20af54f4c9188d47f4d34398d89": {
          "model_module": "@jupyter-widgets/base",
          "model_name": "LayoutModel",
          "model_module_version": "1.2.0",
          "state": {
            "_model_module": "@jupyter-widgets/base",
            "_model_module_version": "1.2.0",
            "_model_name": "LayoutModel",
            "_view_count": null,
            "_view_module": "@jupyter-widgets/base",
            "_view_module_version": "1.2.0",
            "_view_name": "LayoutView",
            "align_content": null,
            "align_items": null,
            "align_self": null,
            "border": null,
            "bottom": null,
            "display": null,
            "flex": null,
            "flex_flow": null,
            "grid_area": null,
            "grid_auto_columns": null,
            "grid_auto_flow": null,
            "grid_auto_rows": null,
            "grid_column": null,
            "grid_gap": null,
            "grid_row": null,
            "grid_template_areas": null,
            "grid_template_columns": null,
            "grid_template_rows": null,
            "height": null,
            "justify_content": null,
            "justify_items": null,
            "left": null,
            "margin": null,
            "max_height": null,
            "max_width": null,
            "min_height": null,
            "min_width": null,
            "object_fit": null,
            "object_position": null,
            "order": null,
            "overflow": null,
            "overflow_x": null,
            "overflow_y": null,
            "padding": null,
            "right": null,
            "top": null,
            "visibility": null,
            "width": null
          }
        },
        "ed20b2f43f1b493e8ccb25c74d4437ee": {
          "model_module": "@jupyter-widgets/base",
          "model_name": "LayoutModel",
          "model_module_version": "1.2.0",
          "state": {
            "_model_module": "@jupyter-widgets/base",
            "_model_module_version": "1.2.0",
            "_model_name": "LayoutModel",
            "_view_count": null,
            "_view_module": "@jupyter-widgets/base",
            "_view_module_version": "1.2.0",
            "_view_name": "LayoutView",
            "align_content": null,
            "align_items": null,
            "align_self": null,
            "border": null,
            "bottom": null,
            "display": null,
            "flex": null,
            "flex_flow": null,
            "grid_area": null,
            "grid_auto_columns": null,
            "grid_auto_flow": null,
            "grid_auto_rows": null,
            "grid_column": null,
            "grid_gap": null,
            "grid_row": null,
            "grid_template_areas": null,
            "grid_template_columns": null,
            "grid_template_rows": null,
            "height": null,
            "justify_content": null,
            "justify_items": null,
            "left": null,
            "margin": null,
            "max_height": null,
            "max_width": null,
            "min_height": null,
            "min_width": null,
            "object_fit": null,
            "object_position": null,
            "order": null,
            "overflow": null,
            "overflow_x": null,
            "overflow_y": null,
            "padding": null,
            "right": null,
            "top": null,
            "visibility": null,
            "width": null
          }
        },
        "fe0d2696826a43e88116c5c85d454a66": {
          "model_module": "@jupyter-widgets/controls",
          "model_name": "DescriptionStyleModel",
          "model_module_version": "1.5.0",
          "state": {
            "_model_module": "@jupyter-widgets/controls",
            "_model_module_version": "1.5.0",
            "_model_name": "DescriptionStyleModel",
            "_view_count": null,
            "_view_module": "@jupyter-widgets/base",
            "_view_module_version": "1.2.0",
            "_view_name": "StyleView",
            "description_width": ""
          }
        },
        "0c4bc807dce24b5da5f1a8bb07cde6ca": {
          "model_module": "@jupyter-widgets/base",
          "model_name": "LayoutModel",
          "model_module_version": "1.2.0",
          "state": {
            "_model_module": "@jupyter-widgets/base",
            "_model_module_version": "1.2.0",
            "_model_name": "LayoutModel",
            "_view_count": null,
            "_view_module": "@jupyter-widgets/base",
            "_view_module_version": "1.2.0",
            "_view_name": "LayoutView",
            "align_content": null,
            "align_items": null,
            "align_self": null,
            "border": null,
            "bottom": null,
            "display": null,
            "flex": null,
            "flex_flow": null,
            "grid_area": null,
            "grid_auto_columns": null,
            "grid_auto_flow": null,
            "grid_auto_rows": null,
            "grid_column": null,
            "grid_gap": null,
            "grid_row": null,
            "grid_template_areas": null,
            "grid_template_columns": null,
            "grid_template_rows": null,
            "height": null,
            "justify_content": null,
            "justify_items": null,
            "left": null,
            "margin": null,
            "max_height": null,
            "max_width": null,
            "min_height": null,
            "min_width": null,
            "object_fit": null,
            "object_position": null,
            "order": null,
            "overflow": null,
            "overflow_x": null,
            "overflow_y": null,
            "padding": null,
            "right": null,
            "top": null,
            "visibility": null,
            "width": null
          }
        },
        "0925e43099e9482b870ef163d1d0a96a": {
          "model_module": "@jupyter-widgets/controls",
          "model_name": "ProgressStyleModel",
          "model_module_version": "1.5.0",
          "state": {
            "_model_module": "@jupyter-widgets/controls",
            "_model_module_version": "1.5.0",
            "_model_name": "ProgressStyleModel",
            "_view_count": null,
            "_view_module": "@jupyter-widgets/base",
            "_view_module_version": "1.2.0",
            "_view_name": "StyleView",
            "bar_color": null,
            "description_width": ""
          }
        },
        "b8d865a0b1a34d45b9db991561c8b1dc": {
          "model_module": "@jupyter-widgets/base",
          "model_name": "LayoutModel",
          "model_module_version": "1.2.0",
          "state": {
            "_model_module": "@jupyter-widgets/base",
            "_model_module_version": "1.2.0",
            "_model_name": "LayoutModel",
            "_view_count": null,
            "_view_module": "@jupyter-widgets/base",
            "_view_module_version": "1.2.0",
            "_view_name": "LayoutView",
            "align_content": null,
            "align_items": null,
            "align_self": null,
            "border": null,
            "bottom": null,
            "display": null,
            "flex": null,
            "flex_flow": null,
            "grid_area": null,
            "grid_auto_columns": null,
            "grid_auto_flow": null,
            "grid_auto_rows": null,
            "grid_column": null,
            "grid_gap": null,
            "grid_row": null,
            "grid_template_areas": null,
            "grid_template_columns": null,
            "grid_template_rows": null,
            "height": null,
            "justify_content": null,
            "justify_items": null,
            "left": null,
            "margin": null,
            "max_height": null,
            "max_width": null,
            "min_height": null,
            "min_width": null,
            "object_fit": null,
            "object_position": null,
            "order": null,
            "overflow": null,
            "overflow_x": null,
            "overflow_y": null,
            "padding": null,
            "right": null,
            "top": null,
            "visibility": null,
            "width": null
          }
        },
        "b30d0a42706c4f5081f23ec2647408c0": {
          "model_module": "@jupyter-widgets/controls",
          "model_name": "DescriptionStyleModel",
          "model_module_version": "1.5.0",
          "state": {
            "_model_module": "@jupyter-widgets/controls",
            "_model_module_version": "1.5.0",
            "_model_name": "DescriptionStyleModel",
            "_view_count": null,
            "_view_module": "@jupyter-widgets/base",
            "_view_module_version": "1.2.0",
            "_view_name": "StyleView",
            "description_width": ""
          }
        },
        "d3d2b71ae71f4bcc9d96cf6d7b2cf5b8": {
          "model_module": "@jupyter-widgets/controls",
          "model_name": "HBoxModel",
          "model_module_version": "1.5.0",
          "state": {
            "_dom_classes": [],
            "_model_module": "@jupyter-widgets/controls",
            "_model_module_version": "1.5.0",
            "_model_name": "HBoxModel",
            "_view_count": null,
            "_view_module": "@jupyter-widgets/controls",
            "_view_module_version": "1.5.0",
            "_view_name": "HBoxView",
            "box_style": "",
            "children": [
              "IPY_MODEL_f93040a4fb464231a8c7721bdef974d5",
              "IPY_MODEL_8c7b900588404c669070a6f303d9b4ff",
              "IPY_MODEL_2d2cb555fa7f470f823eb31ea8c5f1dc"
            ],
            "layout": "IPY_MODEL_ebd3f63ce7b042ff8315fcfb4eec8da7"
          }
        },
        "f93040a4fb464231a8c7721bdef974d5": {
          "model_module": "@jupyter-widgets/controls",
          "model_name": "HTMLModel",
          "model_module_version": "1.5.0",
          "state": {
            "_dom_classes": [],
            "_model_module": "@jupyter-widgets/controls",
            "_model_module_version": "1.5.0",
            "_model_name": "HTMLModel",
            "_view_count": null,
            "_view_module": "@jupyter-widgets/controls",
            "_view_module_version": "1.5.0",
            "_view_name": "HTMLView",
            "description": "",
            "description_tooltip": null,
            "layout": "IPY_MODEL_b37bb04453554164a3ec4716fffd7535",
            "placeholder": "​",
            "style": "IPY_MODEL_d700dd997bac403b9f21a0f4456d6bcc",
            "value": ""
          }
        },
        "8c7b900588404c669070a6f303d9b4ff": {
          "model_module": "@jupyter-widgets/controls",
          "model_name": "FloatProgressModel",
          "model_module_version": "1.5.0",
          "state": {
            "_dom_classes": [],
            "_model_module": "@jupyter-widgets/controls",
            "_model_module_version": "1.5.0",
            "_model_name": "FloatProgressModel",
            "_view_count": null,
            "_view_module": "@jupyter-widgets/controls",
            "_view_module_version": "1.5.0",
            "_view_name": "ProgressView",
            "bar_style": "success",
            "description": "",
            "description_tooltip": null,
            "layout": "IPY_MODEL_abfc3a75ff874b35955f1eddaf70212c",
            "max": 1648877,
            "min": 0,
            "orientation": "horizontal",
            "style": "IPY_MODEL_7cb84f7a54224b29b982fe016192f6aa",
            "value": 1648877
          }
        },
        "2d2cb555fa7f470f823eb31ea8c5f1dc": {
          "model_module": "@jupyter-widgets/controls",
          "model_name": "HTMLModel",
          "model_module_version": "1.5.0",
          "state": {
            "_dom_classes": [],
            "_model_module": "@jupyter-widgets/controls",
            "_model_module_version": "1.5.0",
            "_model_name": "HTMLModel",
            "_view_count": null,
            "_view_module": "@jupyter-widgets/controls",
            "_view_module_version": "1.5.0",
            "_view_name": "HTMLView",
            "description": "",
            "description_tooltip": null,
            "layout": "IPY_MODEL_4c8e8a9cf16a4051bc2b7c1c8712bd76",
            "placeholder": "​",
            "style": "IPY_MODEL_ba127e6d21554c11b505e27f72eabf39",
            "value": " 1649664/? [00:00&lt;00:00, 1877727.62it/s]"
          }
        },
        "ebd3f63ce7b042ff8315fcfb4eec8da7": {
          "model_module": "@jupyter-widgets/base",
          "model_name": "LayoutModel",
          "model_module_version": "1.2.0",
          "state": {
            "_model_module": "@jupyter-widgets/base",
            "_model_module_version": "1.2.0",
            "_model_name": "LayoutModel",
            "_view_count": null,
            "_view_module": "@jupyter-widgets/base",
            "_view_module_version": "1.2.0",
            "_view_name": "LayoutView",
            "align_content": null,
            "align_items": null,
            "align_self": null,
            "border": null,
            "bottom": null,
            "display": null,
            "flex": null,
            "flex_flow": null,
            "grid_area": null,
            "grid_auto_columns": null,
            "grid_auto_flow": null,
            "grid_auto_rows": null,
            "grid_column": null,
            "grid_gap": null,
            "grid_row": null,
            "grid_template_areas": null,
            "grid_template_columns": null,
            "grid_template_rows": null,
            "height": null,
            "justify_content": null,
            "justify_items": null,
            "left": null,
            "margin": null,
            "max_height": null,
            "max_width": null,
            "min_height": null,
            "min_width": null,
            "object_fit": null,
            "object_position": null,
            "order": null,
            "overflow": null,
            "overflow_x": null,
            "overflow_y": null,
            "padding": null,
            "right": null,
            "top": null,
            "visibility": null,
            "width": null
          }
        },
        "b37bb04453554164a3ec4716fffd7535": {
          "model_module": "@jupyter-widgets/base",
          "model_name": "LayoutModel",
          "model_module_version": "1.2.0",
          "state": {
            "_model_module": "@jupyter-widgets/base",
            "_model_module_version": "1.2.0",
            "_model_name": "LayoutModel",
            "_view_count": null,
            "_view_module": "@jupyter-widgets/base",
            "_view_module_version": "1.2.0",
            "_view_name": "LayoutView",
            "align_content": null,
            "align_items": null,
            "align_self": null,
            "border": null,
            "bottom": null,
            "display": null,
            "flex": null,
            "flex_flow": null,
            "grid_area": null,
            "grid_auto_columns": null,
            "grid_auto_flow": null,
            "grid_auto_rows": null,
            "grid_column": null,
            "grid_gap": null,
            "grid_row": null,
            "grid_template_areas": null,
            "grid_template_columns": null,
            "grid_template_rows": null,
            "height": null,
            "justify_content": null,
            "justify_items": null,
            "left": null,
            "margin": null,
            "max_height": null,
            "max_width": null,
            "min_height": null,
            "min_width": null,
            "object_fit": null,
            "object_position": null,
            "order": null,
            "overflow": null,
            "overflow_x": null,
            "overflow_y": null,
            "padding": null,
            "right": null,
            "top": null,
            "visibility": null,
            "width": null
          }
        },
        "d700dd997bac403b9f21a0f4456d6bcc": {
          "model_module": "@jupyter-widgets/controls",
          "model_name": "DescriptionStyleModel",
          "model_module_version": "1.5.0",
          "state": {
            "_model_module": "@jupyter-widgets/controls",
            "_model_module_version": "1.5.0",
            "_model_name": "DescriptionStyleModel",
            "_view_count": null,
            "_view_module": "@jupyter-widgets/base",
            "_view_module_version": "1.2.0",
            "_view_name": "StyleView",
            "description_width": ""
          }
        },
        "abfc3a75ff874b35955f1eddaf70212c": {
          "model_module": "@jupyter-widgets/base",
          "model_name": "LayoutModel",
          "model_module_version": "1.2.0",
          "state": {
            "_model_module": "@jupyter-widgets/base",
            "_model_module_version": "1.2.0",
            "_model_name": "LayoutModel",
            "_view_count": null,
            "_view_module": "@jupyter-widgets/base",
            "_view_module_version": "1.2.0",
            "_view_name": "LayoutView",
            "align_content": null,
            "align_items": null,
            "align_self": null,
            "border": null,
            "bottom": null,
            "display": null,
            "flex": null,
            "flex_flow": null,
            "grid_area": null,
            "grid_auto_columns": null,
            "grid_auto_flow": null,
            "grid_auto_rows": null,
            "grid_column": null,
            "grid_gap": null,
            "grid_row": null,
            "grid_template_areas": null,
            "grid_template_columns": null,
            "grid_template_rows": null,
            "height": null,
            "justify_content": null,
            "justify_items": null,
            "left": null,
            "margin": null,
            "max_height": null,
            "max_width": null,
            "min_height": null,
            "min_width": null,
            "object_fit": null,
            "object_position": null,
            "order": null,
            "overflow": null,
            "overflow_x": null,
            "overflow_y": null,
            "padding": null,
            "right": null,
            "top": null,
            "visibility": null,
            "width": null
          }
        },
        "7cb84f7a54224b29b982fe016192f6aa": {
          "model_module": "@jupyter-widgets/controls",
          "model_name": "ProgressStyleModel",
          "model_module_version": "1.5.0",
          "state": {
            "_model_module": "@jupyter-widgets/controls",
            "_model_module_version": "1.5.0",
            "_model_name": "ProgressStyleModel",
            "_view_count": null,
            "_view_module": "@jupyter-widgets/base",
            "_view_module_version": "1.2.0",
            "_view_name": "StyleView",
            "bar_color": null,
            "description_width": ""
          }
        },
        "4c8e8a9cf16a4051bc2b7c1c8712bd76": {
          "model_module": "@jupyter-widgets/base",
          "model_name": "LayoutModel",
          "model_module_version": "1.2.0",
          "state": {
            "_model_module": "@jupyter-widgets/base",
            "_model_module_version": "1.2.0",
            "_model_name": "LayoutModel",
            "_view_count": null,
            "_view_module": "@jupyter-widgets/base",
            "_view_module_version": "1.2.0",
            "_view_name": "LayoutView",
            "align_content": null,
            "align_items": null,
            "align_self": null,
            "border": null,
            "bottom": null,
            "display": null,
            "flex": null,
            "flex_flow": null,
            "grid_area": null,
            "grid_auto_columns": null,
            "grid_auto_flow": null,
            "grid_auto_rows": null,
            "grid_column": null,
            "grid_gap": null,
            "grid_row": null,
            "grid_template_areas": null,
            "grid_template_columns": null,
            "grid_template_rows": null,
            "height": null,
            "justify_content": null,
            "justify_items": null,
            "left": null,
            "margin": null,
            "max_height": null,
            "max_width": null,
            "min_height": null,
            "min_width": null,
            "object_fit": null,
            "object_position": null,
            "order": null,
            "overflow": null,
            "overflow_x": null,
            "overflow_y": null,
            "padding": null,
            "right": null,
            "top": null,
            "visibility": null,
            "width": null
          }
        },
        "ba127e6d21554c11b505e27f72eabf39": {
          "model_module": "@jupyter-widgets/controls",
          "model_name": "DescriptionStyleModel",
          "model_module_version": "1.5.0",
          "state": {
            "_model_module": "@jupyter-widgets/controls",
            "_model_module_version": "1.5.0",
            "_model_name": "DescriptionStyleModel",
            "_view_count": null,
            "_view_module": "@jupyter-widgets/base",
            "_view_module_version": "1.2.0",
            "_view_name": "StyleView",
            "description_width": ""
          }
        },
        "eaa6ce7569dd4c8f8f03beeba81a3aa6": {
          "model_module": "@jupyter-widgets/controls",
          "model_name": "HBoxModel",
          "model_module_version": "1.5.0",
          "state": {
            "_dom_classes": [],
            "_model_module": "@jupyter-widgets/controls",
            "_model_module_version": "1.5.0",
            "_model_name": "HBoxModel",
            "_view_count": null,
            "_view_module": "@jupyter-widgets/controls",
            "_view_module_version": "1.5.0",
            "_view_name": "HBoxView",
            "box_style": "",
            "children": [
              "IPY_MODEL_ab55ad391801435a867512defe696742",
              "IPY_MODEL_c3e92a48a4ad4afbab169493eaf18c35",
              "IPY_MODEL_5ce302e2a4534d4e97a593d71c8cace4"
            ],
            "layout": "IPY_MODEL_d8d1e9a42c1743b3a5edd7eef74b6641"
          }
        },
        "ab55ad391801435a867512defe696742": {
          "model_module": "@jupyter-widgets/controls",
          "model_name": "HTMLModel",
          "model_module_version": "1.5.0",
          "state": {
            "_dom_classes": [],
            "_model_module": "@jupyter-widgets/controls",
            "_model_module_version": "1.5.0",
            "_model_name": "HTMLModel",
            "_view_count": null,
            "_view_module": "@jupyter-widgets/controls",
            "_view_module_version": "1.5.0",
            "_view_name": "HTMLView",
            "description": "",
            "description_tooltip": null,
            "layout": "IPY_MODEL_481bd50f23804b2f9ff43f6461a98e76",
            "placeholder": "​",
            "style": "IPY_MODEL_cff61e7b4da64bbf901868bb809d33b6",
            "value": ""
          }
        },
        "c3e92a48a4ad4afbab169493eaf18c35": {
          "model_module": "@jupyter-widgets/controls",
          "model_name": "FloatProgressModel",
          "model_module_version": "1.5.0",
          "state": {
            "_dom_classes": [],
            "_model_module": "@jupyter-widgets/controls",
            "_model_module_version": "1.5.0",
            "_model_name": "FloatProgressModel",
            "_view_count": null,
            "_view_module": "@jupyter-widgets/controls",
            "_view_module_version": "1.5.0",
            "_view_name": "ProgressView",
            "bar_style": "success",
            "description": "",
            "description_tooltip": null,
            "layout": "IPY_MODEL_93af60227a574593a001a5da621da70e",
            "max": 4542,
            "min": 0,
            "orientation": "horizontal",
            "style": "IPY_MODEL_0f090579dd084dd98ac772eca161efae",
            "value": 4542
          }
        },
        "5ce302e2a4534d4e97a593d71c8cace4": {
          "model_module": "@jupyter-widgets/controls",
          "model_name": "HTMLModel",
          "model_module_version": "1.5.0",
          "state": {
            "_dom_classes": [],
            "_model_module": "@jupyter-widgets/controls",
            "_model_module_version": "1.5.0",
            "_model_name": "HTMLModel",
            "_view_count": null,
            "_view_module": "@jupyter-widgets/controls",
            "_view_module_version": "1.5.0",
            "_view_name": "HTMLView",
            "description": "",
            "description_tooltip": null,
            "layout": "IPY_MODEL_628bce54007e4f5a8cbe2833cb1c4542",
            "placeholder": "​",
            "style": "IPY_MODEL_4278799c6bfc4690b6ff74c0a7851306",
            "value": " 5120/? [00:00&lt;00:00, 9322.70it/s]"
          }
        },
        "d8d1e9a42c1743b3a5edd7eef74b6641": {
          "model_module": "@jupyter-widgets/base",
          "model_name": "LayoutModel",
          "model_module_version": "1.2.0",
          "state": {
            "_model_module": "@jupyter-widgets/base",
            "_model_module_version": "1.2.0",
            "_model_name": "LayoutModel",
            "_view_count": null,
            "_view_module": "@jupyter-widgets/base",
            "_view_module_version": "1.2.0",
            "_view_name": "LayoutView",
            "align_content": null,
            "align_items": null,
            "align_self": null,
            "border": null,
            "bottom": null,
            "display": null,
            "flex": null,
            "flex_flow": null,
            "grid_area": null,
            "grid_auto_columns": null,
            "grid_auto_flow": null,
            "grid_auto_rows": null,
            "grid_column": null,
            "grid_gap": null,
            "grid_row": null,
            "grid_template_areas": null,
            "grid_template_columns": null,
            "grid_template_rows": null,
            "height": null,
            "justify_content": null,
            "justify_items": null,
            "left": null,
            "margin": null,
            "max_height": null,
            "max_width": null,
            "min_height": null,
            "min_width": null,
            "object_fit": null,
            "object_position": null,
            "order": null,
            "overflow": null,
            "overflow_x": null,
            "overflow_y": null,
            "padding": null,
            "right": null,
            "top": null,
            "visibility": null,
            "width": null
          }
        },
        "481bd50f23804b2f9ff43f6461a98e76": {
          "model_module": "@jupyter-widgets/base",
          "model_name": "LayoutModel",
          "model_module_version": "1.2.0",
          "state": {
            "_model_module": "@jupyter-widgets/base",
            "_model_module_version": "1.2.0",
            "_model_name": "LayoutModel",
            "_view_count": null,
            "_view_module": "@jupyter-widgets/base",
            "_view_module_version": "1.2.0",
            "_view_name": "LayoutView",
            "align_content": null,
            "align_items": null,
            "align_self": null,
            "border": null,
            "bottom": null,
            "display": null,
            "flex": null,
            "flex_flow": null,
            "grid_area": null,
            "grid_auto_columns": null,
            "grid_auto_flow": null,
            "grid_auto_rows": null,
            "grid_column": null,
            "grid_gap": null,
            "grid_row": null,
            "grid_template_areas": null,
            "grid_template_columns": null,
            "grid_template_rows": null,
            "height": null,
            "justify_content": null,
            "justify_items": null,
            "left": null,
            "margin": null,
            "max_height": null,
            "max_width": null,
            "min_height": null,
            "min_width": null,
            "object_fit": null,
            "object_position": null,
            "order": null,
            "overflow": null,
            "overflow_x": null,
            "overflow_y": null,
            "padding": null,
            "right": null,
            "top": null,
            "visibility": null,
            "width": null
          }
        },
        "cff61e7b4da64bbf901868bb809d33b6": {
          "model_module": "@jupyter-widgets/controls",
          "model_name": "DescriptionStyleModel",
          "model_module_version": "1.5.0",
          "state": {
            "_model_module": "@jupyter-widgets/controls",
            "_model_module_version": "1.5.0",
            "_model_name": "DescriptionStyleModel",
            "_view_count": null,
            "_view_module": "@jupyter-widgets/base",
            "_view_module_version": "1.2.0",
            "_view_name": "StyleView",
            "description_width": ""
          }
        },
        "93af60227a574593a001a5da621da70e": {
          "model_module": "@jupyter-widgets/base",
          "model_name": "LayoutModel",
          "model_module_version": "1.2.0",
          "state": {
            "_model_module": "@jupyter-widgets/base",
            "_model_module_version": "1.2.0",
            "_model_name": "LayoutModel",
            "_view_count": null,
            "_view_module": "@jupyter-widgets/base",
            "_view_module_version": "1.2.0",
            "_view_name": "LayoutView",
            "align_content": null,
            "align_items": null,
            "align_self": null,
            "border": null,
            "bottom": null,
            "display": null,
            "flex": null,
            "flex_flow": null,
            "grid_area": null,
            "grid_auto_columns": null,
            "grid_auto_flow": null,
            "grid_auto_rows": null,
            "grid_column": null,
            "grid_gap": null,
            "grid_row": null,
            "grid_template_areas": null,
            "grid_template_columns": null,
            "grid_template_rows": null,
            "height": null,
            "justify_content": null,
            "justify_items": null,
            "left": null,
            "margin": null,
            "max_height": null,
            "max_width": null,
            "min_height": null,
            "min_width": null,
            "object_fit": null,
            "object_position": null,
            "order": null,
            "overflow": null,
            "overflow_x": null,
            "overflow_y": null,
            "padding": null,
            "right": null,
            "top": null,
            "visibility": null,
            "width": null
          }
        },
        "0f090579dd084dd98ac772eca161efae": {
          "model_module": "@jupyter-widgets/controls",
          "model_name": "ProgressStyleModel",
          "model_module_version": "1.5.0",
          "state": {
            "_model_module": "@jupyter-widgets/controls",
            "_model_module_version": "1.5.0",
            "_model_name": "ProgressStyleModel",
            "_view_count": null,
            "_view_module": "@jupyter-widgets/base",
            "_view_module_version": "1.2.0",
            "_view_name": "StyleView",
            "bar_color": null,
            "description_width": ""
          }
        },
        "628bce54007e4f5a8cbe2833cb1c4542": {
          "model_module": "@jupyter-widgets/base",
          "model_name": "LayoutModel",
          "model_module_version": "1.2.0",
          "state": {
            "_model_module": "@jupyter-widgets/base",
            "_model_module_version": "1.2.0",
            "_model_name": "LayoutModel",
            "_view_count": null,
            "_view_module": "@jupyter-widgets/base",
            "_view_module_version": "1.2.0",
            "_view_name": "LayoutView",
            "align_content": null,
            "align_items": null,
            "align_self": null,
            "border": null,
            "bottom": null,
            "display": null,
            "flex": null,
            "flex_flow": null,
            "grid_area": null,
            "grid_auto_columns": null,
            "grid_auto_flow": null,
            "grid_auto_rows": null,
            "grid_column": null,
            "grid_gap": null,
            "grid_row": null,
            "grid_template_areas": null,
            "grid_template_columns": null,
            "grid_template_rows": null,
            "height": null,
            "justify_content": null,
            "justify_items": null,
            "left": null,
            "margin": null,
            "max_height": null,
            "max_width": null,
            "min_height": null,
            "min_width": null,
            "object_fit": null,
            "object_position": null,
            "order": null,
            "overflow": null,
            "overflow_x": null,
            "overflow_y": null,
            "padding": null,
            "right": null,
            "top": null,
            "visibility": null,
            "width": null
          }
        },
        "4278799c6bfc4690b6ff74c0a7851306": {
          "model_module": "@jupyter-widgets/controls",
          "model_name": "DescriptionStyleModel",
          "model_module_version": "1.5.0",
          "state": {
            "_model_module": "@jupyter-widgets/controls",
            "_model_module_version": "1.5.0",
            "_model_name": "DescriptionStyleModel",
            "_view_count": null,
            "_view_module": "@jupyter-widgets/base",
            "_view_module_version": "1.2.0",
            "_view_name": "StyleView",
            "description_width": ""
          }
        }
      }
    }
  },
  "cells": [
    {
      "cell_type": "markdown",
      "source": [
        "#Training a multilayer perceptron with MNIST dataset"
      ],
      "metadata": {
        "id": "zuLFheaQeVHd"
      }
    },
    {
      "cell_type": "code",
      "source": [
        "import torch\n",
        "from torchvision import datasets, transforms\n",
        "import matplotlib.pyplot as plt"
      ],
      "metadata": {
        "id": "5FtHUUgTeWqM"
      },
      "execution_count": 1,
      "outputs": []
    },
    {
      "cell_type": "markdown",
      "source": [
        "##Dataset"
      ],
      "metadata": {
        "id": "_2Ujb65RelFL"
      }
    },
    {
      "cell_type": "code",
      "source": [
        "#Normalizing the variables\n",
        "transform = transforms.Compose([transforms.ToTensor(), transforms.Normalize((0.5),(0.5))])"
      ],
      "metadata": {
        "id": "0IUkEuu7emel"
      },
      "execution_count": 2,
      "outputs": []
    },
    {
      "cell_type": "code",
      "source": [
        "trainset = datasets.MNIST('data/', download=True, transform = transform, train=True)\n",
        "valset = datasets.MNIST('data/', download=True, transform = transform, train=False)"
      ],
      "metadata": {
        "id": "ZVG5uvOafGr1",
        "colab": {
          "base_uri": "https://localhost:8080/",
          "height": 423,
          "referenced_widgets": [
            "22b06e9ad9b946118e2ea2867aad4e32",
            "ada110d408164f46ad9078e98b5a4bfb",
            "444c4c3df886447ea5406a58277ba3a9",
            "fb84841da01043deb10b70868794d61a",
            "ce35f812cf4944aba88727b69e84657a",
            "7536ddaf5ef54531bd1441ec86a24348",
            "8c16713b61c7453882b243711929b97a",
            "2eded87deefe4f2da8aa99bc98a6f5eb",
            "d72a3bcf356a482ca708cdc30d65bfbf",
            "cda914c6f1d841a181d9e1c5bed097ee",
            "f1513dd535e04708a8b7c1da3a3e4a67",
            "7ce8eabdd4c04daf93e14904448c85fe",
            "8b73c6cc01c84d4ea19d7092b56524b0",
            "fd3f10b8e2f441448142b8708f1e4dea",
            "b657cef74f984c6dbbc6e0a18ebb26ae",
            "483bb20af54f4c9188d47f4d34398d89",
            "ed20b2f43f1b493e8ccb25c74d4437ee",
            "fe0d2696826a43e88116c5c85d454a66",
            "0c4bc807dce24b5da5f1a8bb07cde6ca",
            "0925e43099e9482b870ef163d1d0a96a",
            "b8d865a0b1a34d45b9db991561c8b1dc",
            "b30d0a42706c4f5081f23ec2647408c0",
            "d3d2b71ae71f4bcc9d96cf6d7b2cf5b8",
            "f93040a4fb464231a8c7721bdef974d5",
            "8c7b900588404c669070a6f303d9b4ff",
            "2d2cb555fa7f470f823eb31ea8c5f1dc",
            "ebd3f63ce7b042ff8315fcfb4eec8da7",
            "b37bb04453554164a3ec4716fffd7535",
            "d700dd997bac403b9f21a0f4456d6bcc",
            "abfc3a75ff874b35955f1eddaf70212c",
            "7cb84f7a54224b29b982fe016192f6aa",
            "4c8e8a9cf16a4051bc2b7c1c8712bd76",
            "ba127e6d21554c11b505e27f72eabf39",
            "eaa6ce7569dd4c8f8f03beeba81a3aa6",
            "ab55ad391801435a867512defe696742",
            "c3e92a48a4ad4afbab169493eaf18c35",
            "5ce302e2a4534d4e97a593d71c8cace4",
            "d8d1e9a42c1743b3a5edd7eef74b6641",
            "481bd50f23804b2f9ff43f6461a98e76",
            "cff61e7b4da64bbf901868bb809d33b6",
            "93af60227a574593a001a5da621da70e",
            "0f090579dd084dd98ac772eca161efae",
            "628bce54007e4f5a8cbe2833cb1c4542",
            "4278799c6bfc4690b6ff74c0a7851306"
          ]
        },
        "outputId": "b20d4666-66fa-4171-ee66-eccd51f36451"
      },
      "execution_count": 3,
      "outputs": [
        {
          "output_type": "stream",
          "name": "stdout",
          "text": [
            "Downloading http://yann.lecun.com/exdb/mnist/train-images-idx3-ubyte.gz\n",
            "Downloading http://yann.lecun.com/exdb/mnist/train-images-idx3-ubyte.gz to data/MNIST/raw/train-images-idx3-ubyte.gz\n"
          ]
        },
        {
          "output_type": "display_data",
          "data": {
            "text/plain": [
              "  0%|          | 0/9912422 [00:00<?, ?it/s]"
            ],
            "application/vnd.jupyter.widget-view+json": {
              "version_major": 2,
              "version_minor": 0,
              "model_id": "22b06e9ad9b946118e2ea2867aad4e32"
            }
          },
          "metadata": {}
        },
        {
          "output_type": "stream",
          "name": "stdout",
          "text": [
            "Extracting data/MNIST/raw/train-images-idx3-ubyte.gz to data/MNIST/raw\n",
            "\n",
            "Downloading http://yann.lecun.com/exdb/mnist/train-labels-idx1-ubyte.gz\n",
            "Downloading http://yann.lecun.com/exdb/mnist/train-labels-idx1-ubyte.gz to data/MNIST/raw/train-labels-idx1-ubyte.gz\n"
          ]
        },
        {
          "output_type": "display_data",
          "data": {
            "text/plain": [
              "  0%|          | 0/28881 [00:00<?, ?it/s]"
            ],
            "application/vnd.jupyter.widget-view+json": {
              "version_major": 2,
              "version_minor": 0,
              "model_id": "7ce8eabdd4c04daf93e14904448c85fe"
            }
          },
          "metadata": {}
        },
        {
          "output_type": "stream",
          "name": "stdout",
          "text": [
            "Extracting data/MNIST/raw/train-labels-idx1-ubyte.gz to data/MNIST/raw\n",
            "\n",
            "Downloading http://yann.lecun.com/exdb/mnist/t10k-images-idx3-ubyte.gz\n",
            "Downloading http://yann.lecun.com/exdb/mnist/t10k-images-idx3-ubyte.gz to data/MNIST/raw/t10k-images-idx3-ubyte.gz\n"
          ]
        },
        {
          "output_type": "display_data",
          "data": {
            "text/plain": [
              "  0%|          | 0/1648877 [00:00<?, ?it/s]"
            ],
            "application/vnd.jupyter.widget-view+json": {
              "version_major": 2,
              "version_minor": 0,
              "model_id": "d3d2b71ae71f4bcc9d96cf6d7b2cf5b8"
            }
          },
          "metadata": {}
        },
        {
          "output_type": "stream",
          "name": "stdout",
          "text": [
            "Extracting data/MNIST/raw/t10k-images-idx3-ubyte.gz to data/MNIST/raw\n",
            "\n",
            "Downloading http://yann.lecun.com/exdb/mnist/t10k-labels-idx1-ubyte.gz\n",
            "Downloading http://yann.lecun.com/exdb/mnist/t10k-labels-idx1-ubyte.gz to data/MNIST/raw/t10k-labels-idx1-ubyte.gz\n"
          ]
        },
        {
          "output_type": "display_data",
          "data": {
            "text/plain": [
              "  0%|          | 0/4542 [00:00<?, ?it/s]"
            ],
            "application/vnd.jupyter.widget-view+json": {
              "version_major": 2,
              "version_minor": 0,
              "model_id": "eaa6ce7569dd4c8f8f03beeba81a3aa6"
            }
          },
          "metadata": {}
        },
        {
          "output_type": "stream",
          "name": "stdout",
          "text": [
            "Extracting data/MNIST/raw/t10k-labels-idx1-ubyte.gz to data/MNIST/raw\n",
            "\n"
          ]
        }
      ]
    },
    {
      "cell_type": "code",
      "source": [
        "print(len(valset))\n",
        "len(trainset)"
      ],
      "metadata": {
        "colab": {
          "base_uri": "https://localhost:8080/"
        },
        "id": "QVK616tRg8Io",
        "outputId": "bd892d66-5079-4996-a2f5-f7b6bce13fbc"
      },
      "execution_count": 4,
      "outputs": [
        {
          "output_type": "stream",
          "name": "stdout",
          "text": [
            "10000\n"
          ]
        },
        {
          "output_type": "execute_result",
          "data": {
            "text/plain": [
              "60000"
            ]
          },
          "metadata": {},
          "execution_count": 4
        }
      ]
    },
    {
      "cell_type": "code",
      "source": [
        "len(valset[0])"
      ],
      "metadata": {
        "colab": {
          "base_uri": "https://localhost:8080/"
        },
        "id": "Y4mgpcThhXSH",
        "outputId": "d3b0f477-146c-455d-a02d-884161a702cf"
      },
      "execution_count": 5,
      "outputs": [
        {
          "output_type": "execute_result",
          "data": {
            "text/plain": [
              "2"
            ]
          },
          "metadata": {},
          "execution_count": 5
        }
      ]
    },
    {
      "cell_type": "code",
      "source": [
        "type(valset[0][0]), type(valset[0][1])"
      ],
      "metadata": {
        "colab": {
          "base_uri": "https://localhost:8080/"
        },
        "id": "Q6qAJXtThh6d",
        "outputId": "72e29937-1495-4e47-9d72-fdea36ba6801"
      },
      "execution_count": 6,
      "outputs": [
        {
          "output_type": "execute_result",
          "data": {
            "text/plain": [
              "(torch.Tensor, int)"
            ]
          },
          "metadata": {},
          "execution_count": 6
        }
      ]
    },
    {
      "cell_type": "code",
      "source": [
        "valset[0][0].squeeze().shape"
      ],
      "metadata": {
        "colab": {
          "base_uri": "https://localhost:8080/"
        },
        "id": "8Hn1ScoXiX6W",
        "outputId": "52649637-e363-4306-b465-57ad6c7ed917"
      },
      "execution_count": 7,
      "outputs": [
        {
          "output_type": "execute_result",
          "data": {
            "text/plain": [
              "torch.Size([28, 28])"
            ]
          },
          "metadata": {},
          "execution_count": 7
        }
      ]
    },
    {
      "cell_type": "code",
      "source": [
        "plt.imshow(valset[2][0].squeeze(), cmap=\"gray_r\")"
      ],
      "metadata": {
        "colab": {
          "base_uri": "https://localhost:8080/",
          "height": 282
        },
        "id": "mjEHn9e8iDlH",
        "outputId": "2862ff59-e9d8-4ad9-a4c7-a25adf11fa00"
      },
      "execution_count": 8,
      "outputs": [
        {
          "output_type": "execute_result",
          "data": {
            "text/plain": [
              "<matplotlib.image.AxesImage at 0x7fd88a744f50>"
            ]
          },
          "metadata": {},
          "execution_count": 8
        },
        {
          "output_type": "display_data",
          "data": {
            "text/plain": [
              "<Figure size 432x288 with 1 Axes>"
            ],
            "image/png": "[encoded data removed]"
          },
          "metadata": {
            "needs_background": "light"
          }
        }
      ]
    },
    {
      "cell_type": "code",
      "source": [
        "figure = plt.figure()\n",
        "num_of_images = 60\n",
        "for i in range(1, num_of_images + 1):\n",
        "  plt.subplot(6, 10, i)\n",
        "  plt.axis('off')\n",
        "  plt.imshow(valset[i][0].squeeze(), cmap=\"gray_r\")"
      ],
      "metadata": {
        "colab": {
          "base_uri": "https://localhost:8080/",
          "height": 246
        },
        "id": "hLmmDLvZjPcq",
        "outputId": "030125b1-3970-4bc9-9060-4b2ea08da4bd"
      },
      "execution_count": 9,
      "outputs": [
        {
          "output_type": "display_data",
          "data": {
            "text/plain": [
              "<Figure size 432x288 with 60 Axes>"
            ],
            "image/png": "[encoded data removed]"
          },
          "metadata": {
            "needs_background": "light"
          }
        }
      ]
    },
    {
      "cell_type": "code",
      "source": [
        ""
      ],
      "metadata": {
        "id": "7ugl4boDjmmY"
      },
      "execution_count": 9,
      "outputs": []
    },
    {
      "cell_type": "markdown",
      "source": [
        "##Model"
      ],
      "metadata": {
        "id": "5k693-7gi1A1"
      }
    },
    {
      "cell_type": "code",
      "source": [
        "from torch import nn\n",
        "class MyAwesomeModel(nn.Module):\n",
        "  def __init__(self):\n",
        "    super().__init__()\n",
        "\n",
        "    self.linear1 = nn.Linear(784, 200)\n",
        "    self.linear2 = nn.Linear(200,64)\n",
        "    self.linear3 = nn.Linear(64, 10)\n",
        "\n",
        "    self.softmax = nn.Softmax(dim=1)\n",
        "\n",
        "  def forward(self, x):\n",
        "    z2 = self.linear1(x)\n",
        "    a2 = nn.Sigmoid()(z2)\n",
        "\n",
        "    z3 = self.linear2(a2)\n",
        "    a3 = nn.Sigmoid()(z3)\n",
        "\n",
        "    out = self.linear3(a3)\n",
        "    out = self.softmax(out)\n",
        "    return out"
      ],
      "metadata": {
        "id": "lKmyG__pi8Id"
      },
      "execution_count": 19,
      "outputs": []
    },
    {
      "cell_type": "code",
      "source": [
        "model = MyAwesomeModel()\n",
        "test_img = valset[67][0].view(-1).unsqueeze(0)\n",
        "test_img.shape\n",
        "output = model(test_img)"
      ],
      "metadata": {
        "id": "Utz72bU7mi-o"
      },
      "execution_count": 44,
      "outputs": []
    },
    {
      "cell_type": "code",
      "source": [
        "output"
      ],
      "metadata": {
        "colab": {
          "base_uri": "https://localhost:8080/"
        },
        "id": "E6QgTcE0nkrf",
        "outputId": "524b533b-8686-4e6a-8fbf-6661accb582a"
      },
      "execution_count": 45,
      "outputs": [
        {
          "output_type": "execute_result",
          "data": {
            "text/plain": [
              "tensor([[0.1054, 0.0867, 0.1165, 0.1179, 0.0787, 0.0661, 0.1372, 0.1229, 0.0695,\n",
              "         0.0991]], grad_fn=<SoftmaxBackward0>)"
            ]
          },
          "metadata": {},
          "execution_count": 45
        }
      ]
    },
    {
      "cell_type": "code",
      "source": [
        "torch.sum(output)"
      ],
      "metadata": {
        "colab": {
          "base_uri": "https://localhost:8080/"
        },
        "id": "KVXTfAJing0x",
        "outputId": "aa922a6e-751a-47b5-9686-d20804ca592e"
      },
      "execution_count": 46,
      "outputs": [
        {
          "output_type": "execute_result",
          "data": {
            "text/plain": [
              "tensor(1., grad_fn=<SumBackward0>)"
            ]
          },
          "metadata": {},
          "execution_count": 46
        }
      ]
    },
    {
      "cell_type": "code",
      "source": [
        "valset[0][1]  "
      ],
      "metadata": {
        "colab": {
          "base_uri": "https://localhost:8080/"
        },
        "id": "PvZY6SJTrA8f",
        "outputId": "e10c5a0b-6f3c-4cba-f434-0cd94af55bec"
      },
      "execution_count": 47,
      "outputs": [
        {
          "output_type": "execute_result",
          "data": {
            "text/plain": [
              "7"
            ]
          },
          "metadata": {},
          "execution_count": 47
        }
      ]
    },
    {
      "cell_type": "markdown",
      "source": [
        "##Training our model"
      ],
      "metadata": {
        "id": "g2R6t5r3q9rL"
      }
    },
    {
      "cell_type": "code",
      "source": [
        "from torch.utils.data import DataLoader\n",
        "from tqdm import tqdm"
      ],
      "metadata": {
        "id": "NZHgiPoXtXZd"
      },
      "execution_count": 48,
      "outputs": []
    },
    {
      "cell_type": "code",
      "source": [
        "NUM_EPOCHS = 35\n",
        "BATCH_SIZE = 64"
      ],
      "metadata": {
        "id": "07fV1DSFq_my"
      },
      "execution_count": 49,
      "outputs": []
    },
    {
      "cell_type": "code",
      "source": [
        "train_loader = DataLoader(trainset, batch_size = BATCH_SIZE)\n",
        "val_loader = DataLoader(valset, batch_size = BATCH_SIZE)"
      ],
      "metadata": {
        "id": "pBV1hcA9tQD-"
      },
      "execution_count": 50,
      "outputs": []
    },
    {
      "cell_type": "code",
      "source": [
        "def evaluate(dataloader):\n",
        "  total_data = 0\n",
        "  total_correct = 0\n",
        "  for images, labels in tqdm(dataloader):\n",
        "    images = images.view(images.shape[0], -1)\n",
        "\n",
        "    output = model(images)\n",
        "\n",
        "    predictions = torch.argmax(output, dim=1)\n",
        "\n",
        "    total_correct += torch.sum(predictions == labels)\n",
        "    total_data += len(images)\n",
        "\n",
        "  return total_correct.item()/total_data"
      ],
      "metadata": {
        "id": "87oefoQLtndD"
      },
      "execution_count": 51,
      "outputs": []
    },
    {
      "cell_type": "code",
      "source": [
        "evaluate(val_loader)"
      ],
      "metadata": {
        "colab": {
          "base_uri": "https://localhost:8080/"
        },
        "id": "37eYctkLvDKA",
        "outputId": "98446302-5d16-477e-94b1-b3beca2612b8"
      },
      "execution_count": 52,
      "outputs": [
        {
          "output_type": "stream",
          "name": "stderr",
          "text": [
            "100%|██████████| 157/157 [00:02<00:00, 78.40it/s]\n"
          ]
        },
        {
          "output_type": "execute_result",
          "data": {
            "text/plain": [
              "0.0958"
            ]
          },
          "metadata": {},
          "execution_count": 52
        }
      ]
    },
    {
      "cell_type": "code",
      "source": [
        "loss_fn = nn.CrossEntropyLoss()\n",
        "optimizer = torch.optim.SGD(model.parameters(), lr=0.5)"
      ],
      "metadata": {
        "id": "keC0-VyQvjwd"
      },
      "execution_count": 53,
      "outputs": []
    },
    {
      "cell_type": "code",
      "source": [
        "for epoch in range(NUM_EPOCHS):\n",
        "  with tqdm(total=len(train_loader)) as pbar:\n",
        "    for images,labels in train_loader:\n",
        "      images = images.view(images.shape[0], -1)\n",
        "      optimizer.zero_grad()\n",
        "      output = model(images)\n",
        "      loss = loss_fn(output, labels)\n",
        "      loss.backward()\n",
        "      optimizer.step()\n",
        "\n",
        "      pbar.set_description('epoch: %d, loss:%.6f' \\\n",
        "                           %(epoch, loss))\n",
        "      pbar.update(1)\n",
        "    print(\"Accuracy: \", evaluate(val_loader))"
      ],
      "metadata": {
        "colab": {
          "base_uri": "https://localhost:8080/"
        },
        "id": "MfKYNoeKvP9h",
        "outputId": "947b6c12-2578-454e-fbcc-4228ee3ddfd4"
      },
      "execution_count": 54,
      "outputs": [
        {
          "output_type": "stream",
          "name": "stderr",
          "text": [
            "epoch: 0, loss:1.989395: 100%|█████████▉| 937/938 [00:20<00:00, 45.23it/s]\n",
            "  0%|          | 0/157 [00:00<?, ?it/s]\u001b[A\n",
            "  5%|▌         | 8/157 [00:00<00:02, 73.80it/s]\u001b[A\n",
            " 10%|█         | 16/157 [00:00<00:01, 73.10it/s]\u001b[A\n",
            " 15%|█▌        | 24/157 [00:00<00:01, 74.66it/s]\u001b[A\n",
            " 20%|██        | 32/157 [00:00<00:01, 72.11it/s]\u001b[A\n",
            " 25%|██▌       | 40/157 [00:00<00:01, 72.86it/s]\u001b[A\n",
            " 31%|███       | 48/157 [00:00<00:01, 73.83it/s]\u001b[A\n",
            " 36%|███▌      | 56/157 [00:00<00:01, 73.80it/s]\u001b[A\n",
            " 41%|████      | 64/157 [00:00<00:01, 71.64it/s]\u001b[A\n",
            " 46%|████▌     | 72/157 [00:01<00:01, 69.72it/s]\u001b[A\n",
            " 50%|█████     | 79/157 [00:01<00:01, 69.49it/s]\u001b[A\n",
            " 55%|█████▍    | 86/157 [00:01<00:01, 69.16it/s]\u001b[A\n",
            " 59%|█████▉    | 93/157 [00:01<00:00, 68.52it/s]\u001b[A\n",
            " 64%|██████▍   | 101/157 [00:01<00:00, 69.95it/s]\u001b[A\n",
            " 69%|██████▉   | 109/157 [00:01<00:00, 70.25it/s]\u001b[A\n",
            " 75%|███████▍  | 117/157 [00:01<00:00, 71.27it/s]\u001b[A\n",
            " 80%|███████▉  | 125/157 [00:01<00:00, 71.26it/s]\u001b[A\n",
            " 85%|████████▍ | 133/157 [00:01<00:00, 70.73it/s]\u001b[A\n",
            " 90%|████████▉ | 141/157 [00:01<00:00, 67.86it/s]\u001b[A\n",
            " 94%|█████████▍| 148/157 [00:02<00:00, 67.74it/s]\u001b[A\n",
            "100%|██████████| 157/157 [00:02<00:00, 69.91it/s]\n",
            "epoch: 0, loss:1.989395: 100%|██████████| 938/938 [00:23<00:00, 40.72it/s]\n"
          ]
        },
        {
          "output_type": "stream",
          "name": "stdout",
          "text": [
            "Accuracy:  0.5594\n"
          ]
        },
        {
          "output_type": "stream",
          "name": "stderr",
          "text": [
            "epoch: 1, loss:1.835102: 100%|█████████▉| 937/938 [00:19<00:00, 49.29it/s]\n",
            "  0%|          | 0/157 [00:00<?, ?it/s]\u001b[A\n",
            "  5%|▌         | 8/157 [00:00<00:01, 79.99it/s]\u001b[A\n",
            " 10%|█         | 16/157 [00:00<00:01, 75.93it/s]\u001b[A\n",
            " 15%|█▌        | 24/157 [00:00<00:01, 74.32it/s]\u001b[A\n",
            " 20%|██        | 32/157 [00:00<00:01, 74.90it/s]\u001b[A\n",
            " 25%|██▌       | 40/157 [00:00<00:01, 73.42it/s]\u001b[A\n",
            " 31%|███       | 48/157 [00:00<00:01, 71.59it/s]\u001b[A\n",
            " 36%|███▌      | 56/157 [00:00<00:01, 71.82it/s]\u001b[A\n",
            " 41%|████      | 64/157 [00:00<00:01, 73.59it/s]\u001b[A\n",
            " 46%|████▌     | 72/157 [00:00<00:01, 74.65it/s]\u001b[A\n",
            " 51%|█████     | 80/157 [00:01<00:01, 74.07it/s]\u001b[A\n",
            " 56%|█████▌    | 88/157 [00:01<00:00, 74.81it/s]\u001b[A\n",
            " 61%|██████    | 96/157 [00:01<00:00, 74.31it/s]\u001b[A\n",
            " 66%|██████▌   | 104/157 [00:01<00:00, 74.07it/s]\u001b[A\n",
            " 71%|███████▏  | 112/157 [00:01<00:00, 74.21it/s]\u001b[A\n",
            " 76%|███████▋  | 120/157 [00:01<00:00, 74.71it/s]\u001b[A\n",
            " 82%|████████▏ | 128/157 [00:01<00:00, 71.26it/s]\u001b[A\n",
            " 87%|████████▋ | 136/157 [00:01<00:00, 73.30it/s]\u001b[A\n",
            " 92%|█████████▏| 144/157 [00:01<00:00, 73.99it/s]\u001b[A\n",
            "100%|██████████| 157/157 [00:02<00:00, 72.98it/s]\n",
            "epoch: 1, loss:1.835102: 100%|██████████| 938/938 [00:21<00:00, 42.97it/s]\n"
          ]
        },
        {
          "output_type": "stream",
          "name": "stdout",
          "text": [
            "Accuracy:  0.7073\n"
          ]
        },
        {
          "output_type": "stream",
          "name": "stderr",
          "text": [
            "epoch: 2, loss:1.748211: 100%|█████████▉| 937/938 [00:19<00:00, 48.55it/s]\n",
            "  0%|          | 0/157 [00:00<?, ?it/s]\u001b[A\n",
            "  6%|▌         | 9/157 [00:00<00:01, 84.72it/s]\u001b[A\n",
            " 11%|█▏        | 18/157 [00:00<00:01, 78.24it/s]\u001b[A\n",
            " 17%|█▋        | 26/157 [00:00<00:01, 76.98it/s]\u001b[A\n",
            " 22%|██▏       | 34/157 [00:00<00:01, 72.75it/s]\u001b[A\n",
            " 27%|██▋       | 42/157 [00:00<00:01, 71.44it/s]\u001b[A\n",
            " 32%|███▏      | 50/157 [00:00<00:01, 72.14it/s]\u001b[A\n",
            " 37%|███▋      | 58/157 [00:00<00:01, 70.39it/s]\u001b[A\n",
            " 42%|████▏     | 66/157 [00:00<00:01, 71.04it/s]\u001b[A\n",
            " 47%|████▋     | 74/157 [00:01<00:01, 72.09it/s]\u001b[A\n",
            " 52%|█████▏    | 82/157 [00:01<00:01, 71.79it/s]\u001b[A\n",
            " 57%|█████▋    | 90/157 [00:01<00:00, 72.71it/s]\u001b[A\n",
            " 62%|██████▏   | 98/157 [00:01<00:00, 72.31it/s]\u001b[A\n",
            " 68%|██████▊   | 106/157 [00:01<00:00, 72.42it/s]\u001b[A\n",
            " 73%|███████▎  | 114/157 [00:01<00:00, 73.98it/s]\u001b[A\n",
            " 78%|███████▊  | 123/157 [00:01<00:00, 76.11it/s]\u001b[A\n",
            " 83%|████████▎ | 131/157 [00:01<00:00, 73.21it/s]\u001b[A\n",
            " 89%|████████▊ | 139/157 [00:01<00:00, 73.87it/s]\u001b[A\n",
            " 94%|█████████▎| 147/157 [00:02<00:00, 73.12it/s]\u001b[A\n",
            "100%|██████████| 157/157 [00:02<00:00, 73.36it/s]\n",
            "epoch: 2, loss:1.748211: 100%|██████████| 938/938 [00:21<00:00, 43.77it/s]\n"
          ]
        },
        {
          "output_type": "stream",
          "name": "stdout",
          "text": [
            "Accuracy:  0.7498\n"
          ]
        },
        {
          "output_type": "stream",
          "name": "stderr",
          "text": [
            "epoch: 3, loss:1.741611: 100%|█████████▉| 937/938 [00:18<00:00, 52.05it/s]\n",
            "  0%|          | 0/157 [00:00<?, ?it/s]\u001b[A\n",
            "  5%|▌         | 8/157 [00:00<00:01, 78.45it/s]\u001b[A\n",
            " 10%|█         | 16/157 [00:00<00:01, 75.50it/s]\u001b[A\n",
            " 15%|█▌        | 24/157 [00:00<00:01, 75.20it/s]\u001b[A\n",
            " 20%|██        | 32/157 [00:00<00:01, 75.33it/s]\u001b[A\n",
            " 25%|██▌       | 40/157 [00:00<00:01, 75.77it/s]\u001b[A\n",
            " 31%|███       | 48/157 [00:00<00:01, 74.41it/s]\u001b[A\n",
            " 36%|███▌      | 56/157 [00:00<00:01, 73.39it/s]\u001b[A\n",
            " 41%|████      | 64/157 [00:00<00:01, 75.17it/s]\u001b[A\n",
            " 46%|████▋     | 73/157 [00:00<00:01, 77.25it/s]\u001b[A\n",
            " 52%|█████▏    | 81/157 [00:01<00:00, 77.53it/s]\u001b[A\n",
            " 57%|█████▋    | 89/157 [00:01<00:00, 77.69it/s]\u001b[A\n",
            " 62%|██████▏   | 97/157 [00:01<00:00, 75.34it/s]\u001b[A\n",
            " 67%|██████▋   | 105/157 [00:01<00:00, 75.68it/s]\u001b[A\n",
            " 72%|███████▏  | 113/157 [00:01<00:00, 73.92it/s]\u001b[A\n",
            " 77%|███████▋  | 121/157 [00:01<00:00, 75.64it/s]\u001b[A\n",
            " 82%|████████▏ | 129/157 [00:01<00:00, 74.97it/s]\u001b[A\n",
            " 87%|████████▋ | 137/157 [00:01<00:00, 74.82it/s]\u001b[A\n",
            " 93%|█████████▎| 146/157 [00:01<00:00, 77.20it/s]\u001b[A\n",
            "100%|██████████| 157/157 [00:02<00:00, 76.13it/s]\n",
            "epoch: 3, loss:1.741611: 100%|██████████| 938/938 [00:20<00:00, 45.66it/s]\n"
          ]
        },
        {
          "output_type": "stream",
          "name": "stdout",
          "text": [
            "Accuracy:  0.7567\n"
          ]
        },
        {
          "output_type": "stream",
          "name": "stderr",
          "text": [
            "epoch: 4, loss:1.740107: 100%|██████████| 938/938 [00:18<00:00, 52.61it/s]\n",
            "  0%|          | 0/157 [00:00<?, ?it/s]\u001b[A\n",
            "  6%|▌         | 9/157 [00:00<00:01, 82.74it/s]\u001b[A\n",
            " 11%|█▏        | 18/157 [00:00<00:01, 79.39it/s]\u001b[A\n",
            " 17%|█▋        | 26/157 [00:00<00:01, 77.01it/s]\u001b[A\n",
            " 22%|██▏       | 34/157 [00:00<00:01, 74.87it/s]\u001b[A\n",
            " 27%|██▋       | 42/157 [00:00<00:01, 74.61it/s]\u001b[A\n",
            " 32%|███▏      | 50/157 [00:00<00:01, 74.08it/s]\u001b[A\n",
            " 37%|███▋      | 58/157 [00:00<00:01, 75.32it/s]\u001b[A\n",
            " 42%|████▏     | 66/157 [00:00<00:01, 76.37it/s]\u001b[A\n",
            " 47%|████▋     | 74/157 [00:00<00:01, 76.71it/s]\u001b[A\n",
            " 52%|█████▏    | 82/157 [00:01<00:01, 74.28it/s]\u001b[A\n",
            " 57%|█████▋    | 90/157 [00:01<00:00, 72.96it/s]\u001b[A\n",
            " 62%|██████▏   | 98/157 [00:01<00:00, 73.91it/s]\u001b[A\n",
            " 68%|██████▊   | 106/157 [00:01<00:00, 74.81it/s]\u001b[A\n",
            " 73%|███████▎  | 114/157 [00:01<00:00, 72.34it/s]\u001b[A\n",
            " 78%|███████▊  | 122/157 [00:01<00:00, 74.15it/s]\u001b[A\n",
            " 83%|████████▎ | 130/157 [00:01<00:00, 75.34it/s]\u001b[A\n",
            " 88%|████████▊ | 138/157 [00:01<00:00, 76.26it/s]\u001b[A\n",
            " 93%|█████████▎| 146/157 [00:01<00:00, 74.47it/s]\u001b[A\n",
            "100%|██████████| 157/157 [00:02<00:00, 74.95it/s]\n",
            "epoch: 4, loss:1.740107: 100%|██████████| 938/938 [00:20<00:00, 45.16it/s]\n"
          ]
        },
        {
          "output_type": "stream",
          "name": "stdout",
          "text": [
            "Accuracy:  0.7606\n"
          ]
        },
        {
          "output_type": "stream",
          "name": "stderr",
          "text": [
            "epoch: 5, loss:1.739849: 100%|█████████▉| 937/938 [00:18<00:00, 48.36it/s]\n",
            "  0%|          | 0/157 [00:00<?, ?it/s]\u001b[A\n",
            "  6%|▌         | 9/157 [00:00<00:01, 82.46it/s]\u001b[A\n",
            " 11%|█▏        | 18/157 [00:00<00:01, 75.67it/s]\u001b[A\n",
            " 17%|█▋        | 26/157 [00:00<00:01, 76.70it/s]\u001b[A\n",
            " 22%|██▏       | 35/157 [00:00<00:01, 78.66it/s]\u001b[A\n",
            " 27%|██▋       | 43/157 [00:00<00:01, 77.57it/s]\u001b[A\n",
            " 32%|███▏      | 51/157 [00:00<00:01, 76.99it/s]\u001b[A\n",
            " 38%|███▊      | 59/157 [00:00<00:01, 77.43it/s]\u001b[A\n",
            " 43%|████▎     | 67/157 [00:00<00:01, 77.41it/s]\u001b[A\n",
            " 48%|████▊     | 75/157 [00:00<00:01, 75.29it/s]\u001b[A\n",
            " 53%|█████▎    | 83/157 [00:01<00:00, 76.24it/s]\u001b[A\n",
            " 58%|█████▊    | 91/157 [00:01<00:00, 76.97it/s]\u001b[A\n",
            " 63%|██████▎   | 99/157 [00:01<00:00, 74.21it/s]\u001b[A\n",
            " 68%|██████▊   | 107/157 [00:01<00:00, 74.73it/s]\u001b[A\n",
            " 73%|███████▎  | 115/157 [00:01<00:00, 75.99it/s]\u001b[A\n",
            " 78%|███████▊  | 123/157 [00:01<00:00, 74.47it/s]\u001b[A\n",
            " 83%|████████▎ | 131/157 [00:01<00:00, 73.91it/s]\u001b[A\n",
            " 89%|████████▊ | 139/157 [00:01<00:00, 72.90it/s]\u001b[A\n",
            " 94%|█████████▎| 147/157 [00:01<00:00, 74.33it/s]\u001b[A\n",
            "100%|██████████| 157/157 [00:02<00:00, 75.80it/s]\n",
            "epoch: 5, loss:1.739849: 100%|██████████| 938/938 [00:20<00:00, 45.21it/s]\n"
          ]
        },
        {
          "output_type": "stream",
          "name": "stdout",
          "text": [
            "Accuracy:  0.7651\n"
          ]
        },
        {
          "output_type": "stream",
          "name": "stderr",
          "text": [
            "epoch: 6, loss:1.739145: 100%|█████████▉| 937/938 [00:18<00:00, 46.50it/s]\n",
            "  0%|          | 0/157 [00:00<?, ?it/s]\u001b[A\n",
            "  6%|▌         | 9/157 [00:00<00:01, 83.57it/s]\u001b[A\n",
            " 11%|█▏        | 18/157 [00:00<00:01, 78.54it/s]\u001b[A\n",
            " 17%|█▋        | 26/157 [00:00<00:01, 74.11it/s]\u001b[A\n",
            " 22%|██▏       | 34/157 [00:00<00:01, 74.49it/s]\u001b[A\n",
            " 27%|██▋       | 42/157 [00:00<00:01, 75.04it/s]\u001b[A\n",
            " 32%|███▏      | 50/157 [00:00<00:01, 75.12it/s]\u001b[A\n",
            " 37%|███▋      | 58/157 [00:00<00:01, 74.24it/s]\u001b[A\n",
            " 42%|████▏     | 66/157 [00:00<00:01, 73.07it/s]\u001b[A\n",
            " 47%|████▋     | 74/157 [00:00<00:01, 74.96it/s]\u001b[A\n",
            " 52%|█████▏    | 82/157 [00:01<00:00, 76.40it/s]\u001b[A\n",
            " 57%|█████▋    | 90/157 [00:01<00:00, 74.33it/s]\u001b[A\n",
            " 62%|██████▏   | 98/157 [00:01<00:00, 74.55it/s]\u001b[A\n",
            " 68%|██████▊   | 106/157 [00:01<00:00, 74.37it/s]\u001b[A\n",
            " 73%|███████▎  | 114/157 [00:01<00:00, 75.38it/s]\u001b[A\n",
            " 78%|███████▊  | 122/157 [00:01<00:00, 75.71it/s]\u001b[A\n",
            " 83%|████████▎ | 130/157 [00:01<00:00, 75.40it/s]\u001b[A\n",
            " 88%|████████▊ | 138/157 [00:01<00:00, 76.15it/s]\u001b[A\n",
            " 93%|█████████▎| 146/157 [00:01<00:00, 73.43it/s]\u001b[A\n",
            "100%|██████████| 157/157 [00:02<00:00, 74.61it/s]\n",
            "epoch: 6, loss:1.739145: 100%|██████████| 938/938 [00:20<00:00, 44.87it/s]\n"
          ]
        },
        {
          "output_type": "stream",
          "name": "stdout",
          "text": [
            "Accuracy:  0.7685\n"
          ]
        },
        {
          "output_type": "stream",
          "name": "stderr",
          "text": [
            "epoch: 7, loss:1.644937: 100%|█████████▉| 937/938 [00:18<00:00, 49.14it/s]\n",
            "  0%|          | 0/157 [00:00<?, ?it/s]\u001b[A\n",
            "  5%|▌         | 8/157 [00:00<00:01, 76.47it/s]\u001b[A\n",
            " 10%|█         | 16/157 [00:00<00:01, 74.54it/s]\u001b[A\n",
            " 15%|█▌        | 24/157 [00:00<00:01, 72.57it/s]\u001b[A\n",
            " 21%|██        | 33/157 [00:00<00:01, 76.12it/s]\u001b[A\n",
            " 26%|██▌       | 41/157 [00:00<00:01, 76.84it/s]\u001b[A\n",
            " 31%|███       | 49/157 [00:00<00:01, 74.68it/s]\u001b[A\n",
            " 36%|███▋      | 57/157 [00:00<00:01, 75.16it/s]\u001b[A\n",
            " 41%|████▏     | 65/157 [00:00<00:01, 75.83it/s]\u001b[A\n",
            " 46%|████▋     | 73/157 [00:00<00:01, 75.91it/s]\u001b[A\n",
            " 52%|█████▏    | 81/157 [00:01<00:01, 74.48it/s]\u001b[A\n",
            " 57%|█████▋    | 89/157 [00:01<00:00, 74.00it/s]\u001b[A\n",
            " 62%|██████▏   | 97/157 [00:01<00:00, 74.85it/s]\u001b[A\n",
            " 67%|██████▋   | 105/157 [00:01<00:00, 76.27it/s]\u001b[A\n",
            " 72%|███████▏  | 113/157 [00:01<00:00, 76.13it/s]\u001b[A\n",
            " 77%|███████▋  | 121/157 [00:01<00:00, 74.38it/s]\u001b[A\n",
            " 83%|████████▎ | 130/157 [00:01<00:00, 76.57it/s]\u001b[A\n",
            " 88%|████████▊ | 138/157 [00:01<00:00, 76.37it/s]\u001b[A\n",
            " 93%|█████████▎| 146/157 [00:01<00:00, 76.53it/s]\u001b[A\n",
            "100%|██████████| 157/157 [00:02<00:00, 75.61it/s]\n",
            "epoch: 7, loss:1.644937: 100%|██████████| 938/938 [00:20<00:00, 45.16it/s]\n"
          ]
        },
        {
          "output_type": "stream",
          "name": "stdout",
          "text": [
            "Accuracy:  0.8467\n"
          ]
        },
        {
          "output_type": "stream",
          "name": "stderr",
          "text": [
            "epoch: 8, loss:1.597913: 100%|█████████▉| 937/938 [00:18<00:00, 50.14it/s]\n",
            "  0%|          | 0/157 [00:00<?, ?it/s]\u001b[A\n",
            "  6%|▌         | 9/157 [00:00<00:01, 82.40it/s]\u001b[A\n",
            " 11%|█▏        | 18/157 [00:00<00:01, 73.67it/s]\u001b[A\n",
            " 17%|█▋        | 26/157 [00:00<00:01, 73.18it/s]\u001b[A\n",
            " 22%|██▏       | 34/157 [00:00<00:01, 73.54it/s]\u001b[A\n",
            " 27%|██▋       | 42/157 [00:00<00:01, 72.88it/s]\u001b[A\n",
            " 32%|███▏      | 50/157 [00:00<00:01, 72.07it/s]\u001b[A\n",
            " 37%|███▋      | 58/157 [00:00<00:01, 72.77it/s]\u001b[A\n",
            " 42%|████▏     | 66/157 [00:00<00:01, 73.37it/s]\u001b[A\n",
            " 47%|████▋     | 74/157 [00:01<00:01, 73.76it/s]\u001b[A\n",
            " 52%|█████▏    | 82/157 [00:01<00:01, 74.05it/s]\u001b[A\n",
            " 57%|█████▋    | 90/157 [00:01<00:00, 74.69it/s]\u001b[A\n",
            " 62%|██████▏   | 98/157 [00:01<00:00, 73.17it/s]\u001b[A\n",
            " 68%|██████▊   | 106/157 [00:01<00:00, 72.41it/s]\u001b[A\n",
            " 73%|███████▎  | 114/157 [00:01<00:00, 73.64it/s]\u001b[A\n",
            " 78%|███████▊  | 122/157 [00:01<00:00, 74.47it/s]\u001b[A\n",
            " 83%|████████▎ | 130/157 [00:01<00:00, 75.39it/s]\u001b[A\n",
            " 88%|████████▊ | 138/157 [00:01<00:00, 75.78it/s]\u001b[A\n",
            " 93%|█████████▎| 146/157 [00:01<00:00, 76.52it/s]\u001b[A\n",
            "100%|██████████| 157/157 [00:02<00:00, 74.59it/s]\n",
            "epoch: 8, loss:1.597913: 100%|██████████| 938/938 [00:20<00:00, 44.97it/s]\n"
          ]
        },
        {
          "output_type": "stream",
          "name": "stdout",
          "text": [
            "Accuracy:  0.86\n"
          ]
        },
        {
          "output_type": "stream",
          "name": "stderr",
          "text": [
            "epoch: 9, loss:1.585411: 100%|█████████▉| 937/938 [00:18<00:00, 50.49it/s]\n",
            "  0%|          | 0/157 [00:00<?, ?it/s]\u001b[A\n",
            "  5%|▌         | 8/157 [00:00<00:02, 72.55it/s]\u001b[A\n",
            " 10%|█         | 16/157 [00:00<00:01, 72.78it/s]\u001b[A\n",
            " 15%|█▌        | 24/157 [00:00<00:01, 72.65it/s]\u001b[A\n",
            " 20%|██        | 32/157 [00:00<00:01, 72.63it/s]\u001b[A\n",
            " 25%|██▌       | 40/157 [00:00<00:01, 73.01it/s]\u001b[A\n",
            " 31%|███       | 48/157 [00:00<00:01, 73.89it/s]\u001b[A\n",
            " 36%|███▌      | 56/157 [00:00<00:01, 75.39it/s]\u001b[A\n",
            " 41%|████      | 64/157 [00:00<00:01, 75.81it/s]\u001b[A\n",
            " 46%|████▌     | 72/157 [00:00<00:01, 74.75it/s]\u001b[A\n",
            " 51%|█████     | 80/157 [00:01<00:01, 72.56it/s]\u001b[A\n",
            " 56%|█████▌    | 88/157 [00:01<00:00, 73.31it/s]\u001b[A\n",
            " 61%|██████    | 96/157 [00:01<00:00, 73.27it/s]\u001b[A\n",
            " 66%|██████▌   | 104/157 [00:01<00:00, 73.36it/s]\u001b[A\n",
            " 71%|███████▏  | 112/157 [00:01<00:00, 74.48it/s]\u001b[A\n",
            " 76%|███████▋  | 120/157 [00:01<00:00, 74.22it/s]\u001b[A\n",
            " 82%|████████▏ | 128/157 [00:01<00:00, 73.26it/s]\u001b[A\n",
            " 87%|████████▋ | 136/157 [00:01<00:00, 74.54it/s]\u001b[A\n",
            " 92%|█████████▏| 144/157 [00:01<00:00, 75.40it/s]\u001b[A\n",
            "100%|██████████| 157/157 [00:02<00:00, 74.14it/s]\n",
            "epoch: 9, loss:1.585411: 100%|██████████| 938/938 [00:20<00:00, 44.96it/s]\n"
          ]
        },
        {
          "output_type": "stream",
          "name": "stdout",
          "text": [
            "Accuracy:  0.8637\n"
          ]
        },
        {
          "output_type": "stream",
          "name": "stderr",
          "text": [
            "epoch: 10, loss:1.576108: 100%|█████████▉| 937/938 [00:18<00:00, 48.97it/s]\n",
            "  0%|          | 0/157 [00:00<?, ?it/s]\u001b[A\n",
            "  6%|▌         | 9/157 [00:00<00:01, 81.26it/s]\u001b[A\n",
            " 11%|█▏        | 18/157 [00:00<00:01, 78.47it/s]\u001b[A\n",
            " 17%|█▋        | 26/157 [00:00<00:01, 76.32it/s]\u001b[A\n",
            " 22%|██▏       | 34/157 [00:00<00:01, 75.65it/s]\u001b[A\n",
            " 27%|██▋       | 42/157 [00:00<00:01, 74.19it/s]\u001b[A\n",
            " 32%|███▏      | 50/157 [00:00<00:01, 73.64it/s]\u001b[A\n",
            " 37%|███▋      | 58/157 [00:00<00:01, 75.24it/s]\u001b[A\n",
            " 42%|████▏     | 66/157 [00:00<00:01, 76.57it/s]\u001b[A\n",
            " 47%|████▋     | 74/157 [00:00<00:01, 76.61it/s]\u001b[A\n",
            " 52%|█████▏    | 82/157 [00:01<00:00, 75.75it/s]\u001b[A\n",
            " 57%|█████▋    | 90/157 [00:01<00:00, 75.78it/s]\u001b[A\n",
            " 62%|██████▏   | 98/157 [00:01<00:00, 75.82it/s]\u001b[A\n",
            " 68%|██████▊   | 106/157 [00:01<00:00, 75.55it/s]\u001b[A\n",
            " 73%|███████▎  | 114/157 [00:01<00:00, 74.42it/s]\u001b[A\n",
            " 78%|███████▊  | 122/157 [00:01<00:00, 73.03it/s]\u001b[A\n",
            " 83%|████████▎ | 130/157 [00:01<00:00, 73.81it/s]\u001b[A\n",
            " 88%|████████▊ | 138/157 [00:01<00:00, 73.71it/s]\u001b[A\n",
            " 93%|█████████▎| 146/157 [00:01<00:00, 74.09it/s]\u001b[A\n",
            "100%|██████████| 157/157 [00:02<00:00, 74.96it/s]\n",
            "epoch: 10, loss:1.576108: 100%|██████████| 938/938 [00:20<00:00, 44.80it/s]\n"
          ]
        },
        {
          "output_type": "stream",
          "name": "stdout",
          "text": [
            "Accuracy:  0.8682\n"
          ]
        },
        {
          "output_type": "stream",
          "name": "stderr",
          "text": [
            "epoch: 11, loss:1.560058: 100%|█████████▉| 937/938 [00:19<00:00, 46.37it/s]\n",
            "  0%|          | 0/157 [00:00<?, ?it/s]\u001b[A\n",
            "  6%|▌         | 9/157 [00:00<00:01, 79.56it/s]\u001b[A\n",
            " 11%|█         | 17/157 [00:00<00:01, 74.29it/s]\u001b[A\n",
            " 16%|█▌        | 25/157 [00:00<00:01, 75.57it/s]\u001b[A\n",
            " 21%|██        | 33/157 [00:00<00:01, 75.42it/s]\u001b[A\n",
            " 26%|██▌       | 41/157 [00:00<00:01, 74.07it/s]\u001b[A\n",
            " 31%|███       | 49/157 [00:00<00:01, 74.28it/s]\u001b[A\n",
            " 36%|███▋      | 57/157 [00:00<00:01, 71.78it/s]\u001b[A\n",
            " 41%|████▏     | 65/157 [00:00<00:01, 72.59it/s]\u001b[A\n",
            " 46%|████▋     | 73/157 [00:00<00:01, 73.73it/s]\u001b[A\n",
            " 52%|█████▏    | 81/157 [00:01<00:01, 74.37it/s]\u001b[A\n",
            " 57%|█████▋    | 89/157 [00:01<00:00, 72.43it/s]\u001b[A\n",
            " 62%|██████▏   | 97/157 [00:01<00:00, 73.66it/s]\u001b[A\n",
            " 67%|██████▋   | 105/157 [00:01<00:00, 74.00it/s]\u001b[A\n",
            " 72%|███████▏  | 113/157 [00:01<00:00, 74.22it/s]\u001b[A\n",
            " 77%|███████▋  | 121/157 [00:01<00:00, 74.14it/s]\u001b[A\n",
            " 82%|████████▏ | 129/157 [00:01<00:00, 70.91it/s]\u001b[A\n",
            " 87%|████████▋ | 137/157 [00:01<00:00, 71.65it/s]\u001b[A\n",
            " 92%|█████████▏| 145/157 [00:01<00:00, 72.60it/s]\u001b[A\n",
            "100%|██████████| 157/157 [00:02<00:00, 73.32it/s]\n",
            "epoch: 11, loss:1.560058: 100%|██████████| 938/938 [00:21<00:00, 43.65it/s]\n"
          ]
        },
        {
          "output_type": "stream",
          "name": "stdout",
          "text": [
            "Accuracy:  0.87\n"
          ]
        },
        {
          "output_type": "stream",
          "name": "stderr",
          "text": [
            "epoch: 12, loss:1.554545: 100%|█████████▉| 937/938 [00:19<00:00, 46.13it/s]\n",
            "  0%|          | 0/157 [00:00<?, ?it/s]\u001b[A\n",
            "  6%|▌         | 9/157 [00:00<00:01, 80.18it/s]\u001b[A\n",
            " 11%|█▏        | 18/157 [00:00<00:01, 76.50it/s]\u001b[A\n",
            " 17%|█▋        | 26/157 [00:00<00:01, 71.61it/s]\u001b[A\n",
            " 22%|██▏       | 34/157 [00:00<00:01, 72.21it/s]\u001b[A\n",
            " 27%|██▋       | 42/157 [00:00<00:01, 72.53it/s]\u001b[A\n",
            " 32%|███▏      | 50/157 [00:00<00:01, 71.11it/s]\u001b[A\n",
            " 37%|███▋      | 58/157 [00:00<00:01, 70.86it/s]\u001b[A\n",
            " 42%|████▏     | 66/157 [00:00<00:01, 71.82it/s]\u001b[A\n",
            " 47%|████▋     | 74/157 [00:01<00:01, 71.99it/s]\u001b[A\n",
            " 52%|█████▏    | 82/157 [00:01<00:01, 71.36it/s]\u001b[A\n",
            " 57%|█████▋    | 90/157 [00:01<00:00, 72.51it/s]\u001b[A\n",
            " 62%|██████▏   | 98/157 [00:01<00:00, 69.96it/s]\u001b[A\n",
            " 68%|██████▊   | 106/157 [00:01<00:00, 70.03it/s]\u001b[A\n",
            " 73%|███████▎  | 114/157 [00:01<00:00, 69.79it/s]\u001b[A\n",
            " 77%|███████▋  | 121/157 [00:01<00:00, 69.32it/s]\u001b[A\n",
            " 82%|████████▏ | 129/157 [00:01<00:00, 70.93it/s]\u001b[A\n",
            " 87%|████████▋ | 137/157 [00:01<00:00, 71.23it/s]\u001b[A\n",
            " 92%|█████████▏| 145/157 [00:02<00:00, 71.57it/s]\u001b[A\n",
            "100%|██████████| 157/157 [00:02<00:00, 71.65it/s]\n",
            "epoch: 12, loss:1.554545: 100%|██████████| 938/938 [00:22<00:00, 42.32it/s]\n"
          ]
        },
        {
          "output_type": "stream",
          "name": "stdout",
          "text": [
            "Accuracy:  0.8723\n"
          ]
        },
        {
          "output_type": "stream",
          "name": "stderr",
          "text": [
            "epoch: 13, loss:1.469721: 100%|█████████▉| 937/938 [00:20<00:00, 44.57it/s]\n",
            "  0%|          | 0/157 [00:00<?, ?it/s]\u001b[A\n",
            "  4%|▍         | 7/157 [00:00<00:02, 69.72it/s]\u001b[A\n",
            " 10%|▉         | 15/157 [00:00<00:01, 72.53it/s]\u001b[A\n",
            " 15%|█▍        | 23/157 [00:00<00:01, 73.75it/s]\u001b[A\n",
            " 20%|█▉        | 31/157 [00:00<00:01, 71.78it/s]\u001b[A\n",
            " 25%|██▍       | 39/157 [00:00<00:01, 72.47it/s]\u001b[A\n",
            " 30%|██▉       | 47/157 [00:00<00:01, 71.06it/s]\u001b[A\n",
            " 35%|███▌      | 55/157 [00:00<00:01, 72.19it/s]\u001b[A\n",
            " 40%|████      | 63/157 [00:00<00:01, 73.05it/s]\u001b[A\n",
            " 45%|████▌     | 71/157 [00:00<00:01, 72.41it/s]\u001b[A\n",
            " 50%|█████     | 79/157 [00:01<00:01, 71.98it/s]\u001b[A\n",
            " 55%|█████▌    | 87/157 [00:01<00:00, 73.37it/s]\u001b[A\n",
            " 61%|██████    | 95/157 [00:01<00:00, 72.59it/s]\u001b[A\n",
            " 66%|██████▌   | 103/157 [00:01<00:00, 73.21it/s]\u001b[A\n",
            " 71%|███████   | 111/157 [00:01<00:00, 74.56it/s]\u001b[A\n",
            " 76%|███████▌  | 119/157 [00:01<00:00, 75.34it/s]\u001b[A\n",
            " 81%|████████  | 127/157 [00:01<00:00, 72.53it/s]\u001b[A\n",
            " 86%|████████▌ | 135/157 [00:01<00:00, 73.43it/s]\u001b[A\n",
            " 91%|█████████ | 143/157 [00:01<00:00, 74.03it/s]\u001b[A\n",
            "100%|██████████| 157/157 [00:02<00:00, 73.32it/s]\n",
            "epoch: 13, loss:1.469721: 100%|██████████| 938/938 [00:22<00:00, 42.20it/s]\n"
          ]
        },
        {
          "output_type": "stream",
          "name": "stdout",
          "text": [
            "Accuracy:  0.9381\n"
          ]
        },
        {
          "output_type": "stream",
          "name": "stderr",
          "text": [
            "epoch: 14, loss:1.464566: 100%|██████████| 938/938 [00:19<00:00, 48.05it/s]\n",
            "  0%|          | 0/157 [00:00<?, ?it/s]\u001b[A\n",
            "  6%|▌         | 9/157 [00:00<00:01, 81.28it/s]\u001b[A\n",
            " 11%|█▏        | 18/157 [00:00<00:01, 76.32it/s]\u001b[A\n",
            " 17%|█▋        | 26/157 [00:00<00:01, 74.13it/s]\u001b[A\n",
            " 22%|██▏       | 34/157 [00:00<00:01, 73.59it/s]\u001b[A\n",
            " 27%|██▋       | 42/157 [00:00<00:01, 72.69it/s]\u001b[A\n",
            " 32%|███▏      | 50/157 [00:00<00:01, 72.25it/s]\u001b[A\n",
            " 37%|███▋      | 58/157 [00:00<00:01, 73.32it/s]\u001b[A\n",
            " 42%|████▏     | 66/157 [00:00<00:01, 73.70it/s]\u001b[A\n",
            " 47%|████▋     | 74/157 [00:00<00:01, 74.93it/s]\u001b[A\n",
            " 52%|█████▏    | 82/157 [00:01<00:01, 73.27it/s]\u001b[A\n",
            " 57%|█████▋    | 90/157 [00:01<00:00, 72.66it/s]\u001b[A\n",
            " 62%|██████▏   | 98/157 [00:01<00:00, 73.19it/s]\u001b[A\n",
            " 68%|██████▊   | 106/157 [00:01<00:00, 72.03it/s]\u001b[A\n",
            " 73%|███████▎  | 114/157 [00:01<00:00, 73.17it/s]\u001b[A\n",
            " 78%|███████▊  | 122/157 [00:01<00:00, 74.09it/s]\u001b[A\n",
            " 83%|████████▎ | 130/157 [00:01<00:00, 74.06it/s]\u001b[A\n",
            " 88%|████████▊ | 138/157 [00:01<00:00, 73.97it/s]\u001b[A\n",
            " 93%|█████████▎| 146/157 [00:01<00:00, 74.29it/s]\u001b[A\n",
            "100%|██████████| 157/157 [00:02<00:00, 73.67it/s]\n",
            "epoch: 14, loss:1.464566: 100%|██████████| 938/938 [00:21<00:00, 42.89it/s]\n"
          ]
        },
        {
          "output_type": "stream",
          "name": "stdout",
          "text": [
            "Accuracy:  0.9464\n"
          ]
        },
        {
          "output_type": "stream",
          "name": "stderr",
          "text": [
            "epoch: 15, loss:1.463687: 100%|█████████▉| 937/938 [00:20<00:00, 44.74it/s]\n",
            "  0%|          | 0/157 [00:00<?, ?it/s]\u001b[A\n",
            "  5%|▌         | 8/157 [00:00<00:01, 76.53it/s]\u001b[A\n",
            " 10%|█         | 16/157 [00:00<00:01, 75.80it/s]\u001b[A\n",
            " 15%|█▌        | 24/157 [00:00<00:01, 73.59it/s]\u001b[A\n",
            " 20%|██        | 32/157 [00:00<00:01, 71.78it/s]\u001b[A\n",
            " 25%|██▌       | 40/157 [00:00<00:01, 72.18it/s]\u001b[A\n",
            " 31%|███       | 48/157 [00:00<00:01, 72.24it/s]\u001b[A\n",
            " 36%|███▌      | 56/157 [00:00<00:01, 73.07it/s]\u001b[A\n",
            " 41%|████      | 64/157 [00:00<00:01, 70.26it/s]\u001b[A\n",
            " 46%|████▌     | 72/157 [00:01<00:01, 70.12it/s]\u001b[A\n",
            " 51%|█████     | 80/157 [00:01<00:01, 70.48it/s]\u001b[A\n",
            " 56%|█████▌    | 88/157 [00:01<00:01, 68.55it/s]\u001b[A\n",
            " 61%|██████    | 96/157 [00:01<00:00, 69.84it/s]\u001b[A\n",
            " 66%|██████▌   | 104/157 [00:01<00:00, 71.51it/s]\u001b[A\n",
            " 71%|███████▏  | 112/157 [00:01<00:00, 71.80it/s]\u001b[A\n",
            " 76%|███████▋  | 120/157 [00:01<00:00, 71.88it/s]\u001b[A\n",
            " 82%|████████▏ | 128/157 [00:01<00:00, 73.11it/s]\u001b[A\n",
            " 87%|████████▋ | 136/157 [00:01<00:00, 70.94it/s]\u001b[A\n",
            " 92%|█████████▏| 144/157 [00:02<00:00, 70.11it/s]\u001b[A\n",
            "100%|██████████| 157/157 [00:02<00:00, 70.85it/s]\n",
            "epoch: 15, loss:1.463687: 100%|██████████| 938/938 [00:22<00:00, 42.15it/s]\n"
          ]
        },
        {
          "output_type": "stream",
          "name": "stdout",
          "text": [
            "Accuracy:  0.9517\n"
          ]
        },
        {
          "output_type": "stream",
          "name": "stderr",
          "text": [
            "epoch: 16, loss:1.463004: 100%|█████████▉| 937/938 [00:20<00:00, 46.34it/s]\n",
            "  0%|          | 0/157 [00:00<?, ?it/s]\u001b[A\n",
            "  5%|▌         | 8/157 [00:00<00:01, 75.16it/s]\u001b[A\n",
            " 10%|█         | 16/157 [00:00<00:01, 75.56it/s]\u001b[A\n",
            " 15%|█▌        | 24/157 [00:00<00:01, 75.91it/s]\u001b[A\n",
            " 20%|██        | 32/157 [00:00<00:01, 74.40it/s]\u001b[A\n",
            " 25%|██▌       | 40/157 [00:00<00:01, 70.50it/s]\u001b[A\n",
            " 31%|███       | 48/157 [00:00<00:01, 69.96it/s]\u001b[A\n",
            " 36%|███▌      | 56/157 [00:00<00:01, 70.97it/s]\u001b[A\n",
            " 41%|████      | 64/157 [00:00<00:01, 68.57it/s]\u001b[A\n",
            " 45%|████▌     | 71/157 [00:01<00:01, 68.03it/s]\u001b[A\n",
            " 50%|█████     | 79/157 [00:01<00:01, 70.21it/s]\u001b[A\n",
            " 55%|█████▌    | 87/157 [00:01<00:00, 70.84it/s]\u001b[A\n",
            " 61%|██████    | 95/157 [00:01<00:00, 70.40it/s]\u001b[A\n",
            " 66%|██████▌   | 103/157 [00:01<00:00, 69.70it/s]\u001b[A\n",
            " 70%|███████   | 110/157 [00:01<00:00, 69.40it/s]\u001b[A\n",
            " 75%|███████▌  | 118/157 [00:01<00:00, 71.15it/s]\u001b[A\n",
            " 80%|████████  | 126/157 [00:01<00:00, 71.10it/s]\u001b[A\n",
            " 85%|████████▌ | 134/157 [00:01<00:00, 71.04it/s]\u001b[A\n",
            " 90%|█████████ | 142/157 [00:02<00:00, 70.58it/s]\u001b[A\n",
            "100%|██████████| 157/157 [00:02<00:00, 71.32it/s]\n",
            "epoch: 16, loss:1.463004: 100%|██████████| 938/938 [00:22<00:00, 41.56it/s]\n"
          ]
        },
        {
          "output_type": "stream",
          "name": "stdout",
          "text": [
            "Accuracy:  0.9545\n"
          ]
        },
        {
          "output_type": "stream",
          "name": "stderr",
          "text": [
            "epoch: 17, loss:1.462753: 100%|█████████▉| 937/938 [00:20<00:00, 47.91it/s]\n",
            "  0%|          | 0/157 [00:00<?, ?it/s]\u001b[A\n",
            "  6%|▌         | 9/157 [00:00<00:01, 83.57it/s]\u001b[A\n",
            " 11%|█▏        | 18/157 [00:00<00:01, 72.75it/s]\u001b[A\n",
            " 17%|█▋        | 26/157 [00:00<00:01, 75.14it/s]\u001b[A\n",
            " 22%|██▏       | 34/157 [00:00<00:01, 76.03it/s]\u001b[A\n",
            " 27%|██▋       | 42/157 [00:00<00:01, 74.89it/s]\u001b[A\n",
            " 32%|███▏      | 50/157 [00:00<00:01, 73.60it/s]\u001b[A\n",
            " 37%|███▋      | 58/157 [00:00<00:01, 73.89it/s]\u001b[A\n",
            " 42%|████▏     | 66/157 [00:00<00:01, 74.02it/s]\u001b[A\n",
            " 47%|████▋     | 74/157 [00:00<00:01, 73.62it/s]\u001b[A\n",
            " 52%|█████▏    | 82/157 [00:01<00:01, 73.68it/s]\u001b[A\n",
            " 57%|█████▋    | 90/157 [00:01<00:00, 69.53it/s]\u001b[A\n",
            " 62%|██████▏   | 98/157 [00:01<00:00, 70.52it/s]\u001b[A\n",
            " 68%|██████▊   | 106/157 [00:01<00:00, 71.08it/s]\u001b[A\n",
            " 73%|███████▎  | 114/157 [00:01<00:00, 72.13it/s]\u001b[A\n",
            " 78%|███████▊  | 122/157 [00:01<00:00, 72.73it/s]\u001b[A\n",
            " 83%|████████▎ | 130/157 [00:01<00:00, 72.29it/s]\u001b[A\n",
            " 88%|████████▊ | 138/157 [00:01<00:00, 74.02it/s]\u001b[A\n",
            " 93%|█████████▎| 146/157 [00:01<00:00, 74.05it/s]\u001b[A\n",
            "100%|██████████| 157/157 [00:02<00:00, 73.57it/s]\n",
            "epoch: 17, loss:1.462753: 100%|██████████| 938/938 [00:22<00:00, 42.04it/s]\n"
          ]
        },
        {
          "output_type": "stream",
          "name": "stdout",
          "text": [
            "Accuracy:  0.9595\n"
          ]
        },
        {
          "output_type": "stream",
          "name": "stderr",
          "text": [
            "epoch: 18, loss:1.462740: 100%|█████████▉| 937/938 [00:20<00:00, 46.70it/s]\n",
            "  0%|          | 0/157 [00:00<?, ?it/s]\u001b[A\n",
            "  5%|▌         | 8/157 [00:00<00:01, 77.69it/s]\u001b[A\n",
            " 10%|█         | 16/157 [00:00<00:01, 72.89it/s]\u001b[A\n",
            " 15%|█▌        | 24/157 [00:00<00:01, 71.66it/s]\u001b[A\n",
            " 20%|██        | 32/157 [00:00<00:01, 69.62it/s]\u001b[A\n",
            " 25%|██▍       | 39/157 [00:00<00:01, 69.64it/s]\u001b[A\n",
            " 30%|██▉       | 47/157 [00:00<00:01, 70.42it/s]\u001b[A\n",
            " 35%|███▌      | 55/157 [00:00<00:01, 70.78it/s]\u001b[A\n",
            " 40%|████      | 63/157 [00:00<00:01, 72.13it/s]\u001b[A\n",
            " 45%|████▌     | 71/157 [00:00<00:01, 73.73it/s]\u001b[A\n",
            " 50%|█████     | 79/157 [00:01<00:01, 73.95it/s]\u001b[A\n",
            " 55%|█████▌    | 87/157 [00:01<00:00, 74.29it/s]\u001b[A\n",
            " 61%|██████    | 95/157 [00:01<00:00, 73.80it/s]\u001b[A\n",
            " 66%|██████▌   | 103/157 [00:01<00:00, 72.42it/s]\u001b[A\n",
            " 71%|███████   | 111/157 [00:01<00:00, 72.31it/s]\u001b[A\n",
            " 76%|███████▌  | 119/157 [00:01<00:00, 71.69it/s]\u001b[A\n",
            " 81%|████████  | 127/157 [00:01<00:00, 69.42it/s]\u001b[A\n",
            " 86%|████████▌ | 135/157 [00:01<00:00, 70.79it/s]\u001b[A\n",
            " 91%|█████████ | 143/157 [00:01<00:00, 70.94it/s]\u001b[A\n",
            "100%|██████████| 157/157 [00:02<00:00, 72.17it/s]\n",
            "epoch: 18, loss:1.462740: 100%|██████████| 938/938 [00:22<00:00, 41.82it/s]\n"
          ]
        },
        {
          "output_type": "stream",
          "name": "stdout",
          "text": [
            "Accuracy:  0.9624\n"
          ]
        },
        {
          "output_type": "stream",
          "name": "stderr",
          "text": [
            "epoch: 19, loss:1.462599: 100%|█████████▉| 937/938 [00:20<00:00, 45.49it/s]\n",
            "  0%|          | 0/157 [00:00<?, ?it/s]\u001b[A\n",
            "  5%|▌         | 8/157 [00:00<00:01, 75.24it/s]\u001b[A\n",
            " 10%|█         | 16/157 [00:00<00:01, 71.17it/s]\u001b[A\n",
            " 15%|█▌        | 24/157 [00:00<00:01, 70.72it/s]\u001b[A\n",
            " 20%|██        | 32/157 [00:00<00:01, 65.73it/s]\u001b[A\n",
            " 25%|██▍       | 39/157 [00:00<00:01, 64.03it/s]\u001b[A\n",
            " 29%|██▉       | 46/157 [00:00<00:01, 63.78it/s]\u001b[A\n",
            " 34%|███▍      | 54/157 [00:00<00:01, 66.80it/s]\u001b[A\n",
            " 39%|███▉      | 62/157 [00:00<00:01, 68.55it/s]\u001b[A\n",
            " 45%|████▍     | 70/157 [00:01<00:01, 70.75it/s]\u001b[A\n",
            " 50%|████▉     | 78/157 [00:01<00:01, 71.60it/s]\u001b[A\n",
            " 55%|█████▍    | 86/157 [00:01<00:01, 70.77it/s]\u001b[A\n",
            " 60%|█████▉    | 94/157 [00:01<00:00, 70.33it/s]\u001b[A\n",
            " 65%|██████▍   | 102/157 [00:01<00:00, 69.38it/s]\u001b[A\n",
            " 69%|██████▉   | 109/157 [00:01<00:00, 68.49it/s]\u001b[A\n",
            " 75%|███████▍  | 117/157 [00:01<00:00, 69.73it/s]\u001b[A\n",
            " 80%|███████▉  | 125/157 [00:01<00:00, 70.89it/s]\u001b[A\n",
            " 85%|████████▍ | 133/157 [00:01<00:00, 70.92it/s]\u001b[A\n",
            " 90%|████████▉ | 141/157 [00:02<00:00, 71.45it/s]\u001b[A\n",
            " 95%|█████████▍| 149/157 [00:02<00:00, 71.48it/s]\u001b[A\n",
            "100%|██████████| 157/157 [00:02<00:00, 69.65it/s]\n",
            "epoch: 19, loss:1.462599: 100%|██████████| 938/938 [00:22<00:00, 41.19it/s]\n"
          ]
        },
        {
          "output_type": "stream",
          "name": "stdout",
          "text": [
            "Accuracy:  0.9645\n"
          ]
        },
        {
          "output_type": "stream",
          "name": "stderr",
          "text": [
            "epoch: 20, loss:1.462607: 100%|█████████▉| 937/938 [00:19<00:00, 46.13it/s]\n",
            "  0%|          | 0/157 [00:00<?, ?it/s]\u001b[A\n",
            "  6%|▌         | 9/157 [00:00<00:01, 82.02it/s]\u001b[A\n",
            " 11%|█▏        | 18/157 [00:00<00:01, 78.03it/s]\u001b[A\n",
            " 17%|█▋        | 26/157 [00:00<00:01, 77.53it/s]\u001b[A\n",
            " 22%|██▏       | 34/157 [00:00<00:01, 75.26it/s]\u001b[A\n",
            " 27%|██▋       | 42/157 [00:00<00:01, 76.41it/s]\u001b[A\n",
            " 32%|███▏      | 50/157 [00:00<00:01, 74.87it/s]\u001b[A\n",
            " 37%|███▋      | 58/157 [00:00<00:01, 74.49it/s]\u001b[A\n",
            " 42%|████▏     | 66/157 [00:00<00:01, 72.22it/s]\u001b[A\n",
            " 47%|████▋     | 74/157 [00:01<00:01, 71.41it/s]\u001b[A\n",
            " 52%|█████▏    | 82/157 [00:01<00:01, 71.50it/s]\u001b[A\n",
            " 57%|█████▋    | 90/157 [00:01<00:00, 71.27it/s]\u001b[A\n",
            " 62%|██████▏   | 98/157 [00:01<00:00, 71.42it/s]\u001b[A\n",
            " 68%|██████▊   | 106/157 [00:01<00:00, 69.18it/s]\u001b[A\n",
            " 73%|███████▎  | 114/157 [00:01<00:00, 70.23it/s]\u001b[A\n",
            " 78%|███████▊  | 122/157 [00:01<00:00, 70.72it/s]\u001b[A\n",
            " 83%|████████▎ | 130/157 [00:01<00:00, 69.49it/s]\u001b[A\n",
            " 87%|████████▋ | 137/157 [00:01<00:00, 67.86it/s]\u001b[A\n",
            " 92%|█████████▏| 144/157 [00:02<00:00, 68.11it/s]\u001b[A\n",
            "100%|██████████| 157/157 [00:02<00:00, 71.84it/s]\n",
            "epoch: 20, loss:1.462607: 100%|██████████| 938/938 [00:22<00:00, 42.34it/s]\n"
          ]
        },
        {
          "output_type": "stream",
          "name": "stdout",
          "text": [
            "Accuracy:  0.9659\n"
          ]
        },
        {
          "output_type": "stream",
          "name": "stderr",
          "text": [
            "epoch: 21, loss:1.462149: 100%|█████████▉| 937/938 [00:20<00:00, 37.75it/s]\n",
            "  0%|          | 0/157 [00:00<?, ?it/s]\u001b[A\n",
            "  5%|▌         | 8/157 [00:00<00:02, 73.15it/s]\u001b[A\n",
            " 10%|█         | 16/157 [00:00<00:02, 63.63it/s]\u001b[A\n",
            " 15%|█▍        | 23/157 [00:00<00:02, 63.27it/s]\u001b[A\n",
            " 19%|█▉        | 30/157 [00:00<00:01, 65.20it/s]\u001b[A\n",
            " 24%|██▎       | 37/157 [00:00<00:01, 65.71it/s]\u001b[A\n",
            " 28%|██▊       | 44/157 [00:00<00:01, 63.88it/s]\u001b[A\n",
            " 32%|███▏      | 51/157 [00:00<00:01, 61.38it/s]\u001b[A\n",
            " 37%|███▋      | 58/157 [00:00<00:01, 63.57it/s]\u001b[A\n",
            " 41%|████▏     | 65/157 [00:01<00:01, 64.77it/s]\u001b[A\n",
            " 46%|████▌     | 72/157 [00:01<00:01, 65.47it/s]\u001b[A\n",
            " 50%|█████     | 79/157 [00:01<00:01, 64.79it/s]\u001b[A\n",
            " 55%|█████▍    | 86/157 [00:01<00:01, 64.63it/s]\u001b[A\n",
            " 59%|█████▉    | 93/157 [00:01<00:00, 64.99it/s]\u001b[A\n",
            " 64%|██████▎   | 100/157 [00:01<00:00, 64.84it/s]\u001b[A\n",
            " 68%|██████▊   | 107/157 [00:01<00:00, 65.13it/s]\u001b[A\n",
            " 73%|███████▎  | 114/157 [00:01<00:00, 65.82it/s]\u001b[A\n",
            " 77%|███████▋  | 121/157 [00:01<00:00, 64.76it/s]\u001b[A\n",
            " 82%|████████▏ | 128/157 [00:01<00:00, 63.64it/s]\u001b[A\n",
            " 86%|████████▌ | 135/157 [00:02<00:00, 62.68it/s]\u001b[A\n",
            " 90%|█████████ | 142/157 [00:02<00:00, 62.81it/s]\u001b[A\n",
            " 95%|█████████▍| 149/157 [00:02<00:00, 63.16it/s]\u001b[A\n",
            "100%|██████████| 157/157 [00:02<00:00, 64.02it/s]\n",
            "epoch: 21, loss:1.462149: 100%|██████████| 938/938 [00:22<00:00, 40.79it/s]\n"
          ]
        },
        {
          "output_type": "stream",
          "name": "stdout",
          "text": [
            "Accuracy:  0.9661\n"
          ]
        },
        {
          "output_type": "stream",
          "name": "stderr",
          "text": [
            "epoch: 22, loss:1.461878: 100%|█████████▉| 937/938 [00:21<00:00, 44.49it/s]\n",
            "  0%|          | 0/157 [00:00<?, ?it/s]\u001b[A\n",
            "  6%|▌         | 9/157 [00:00<00:01, 81.82it/s]\u001b[A\n",
            " 11%|█▏        | 18/157 [00:00<00:01, 76.78it/s]\u001b[A\n",
            " 17%|█▋        | 26/157 [00:00<00:01, 73.34it/s]\u001b[A\n",
            " 22%|██▏       | 34/157 [00:00<00:01, 72.51it/s]\u001b[A\n",
            " 27%|██▋       | 42/157 [00:00<00:01, 72.05it/s]\u001b[A\n",
            " 32%|███▏      | 50/157 [00:00<00:01, 70.23it/s]\u001b[A\n",
            " 37%|███▋      | 58/157 [00:00<00:01, 64.15it/s]\u001b[A\n",
            " 42%|████▏     | 66/157 [00:00<00:01, 66.56it/s]\u001b[A\n",
            " 47%|████▋     | 74/157 [00:01<00:01, 68.22it/s]\u001b[A\n",
            " 52%|█████▏    | 81/157 [00:01<00:01, 68.34it/s]\u001b[A\n",
            " 56%|█████▌    | 88/157 [00:01<00:01, 67.64it/s]\u001b[A\n",
            " 61%|██████    | 96/157 [00:01<00:00, 68.78it/s]\u001b[A\n",
            " 66%|██████▌   | 104/157 [00:01<00:00, 70.57it/s]\u001b[A\n",
            " 71%|███████▏  | 112/157 [00:01<00:00, 71.33it/s]\u001b[A\n",
            " 76%|███████▋  | 120/157 [00:01<00:00, 71.26it/s]\u001b[A\n",
            " 82%|████████▏ | 128/157 [00:01<00:00, 69.88it/s]\u001b[A\n",
            " 87%|████████▋ | 136/157 [00:01<00:00, 69.72it/s]\u001b[A\n",
            " 91%|█████████ | 143/157 [00:02<00:00, 68.46it/s]\u001b[A\n",
            "100%|██████████| 157/157 [00:02<00:00, 69.73it/s]\n",
            "epoch: 22, loss:1.461878: 100%|██████████| 938/938 [00:23<00:00, 39.80it/s]\n"
          ]
        },
        {
          "output_type": "stream",
          "name": "stdout",
          "text": [
            "Accuracy:  0.9688\n"
          ]
        },
        {
          "output_type": "stream",
          "name": "stderr",
          "text": [
            "epoch: 23, loss:1.461787: 100%|█████████▉| 937/938 [00:20<00:00, 50.11it/s]\n",
            "  0%|          | 0/157 [00:00<?, ?it/s]\u001b[A\n",
            "  5%|▌         | 8/157 [00:00<00:01, 76.73it/s]\u001b[A\n",
            " 10%|█         | 16/157 [00:00<00:01, 74.30it/s]\u001b[A\n",
            " 15%|█▌        | 24/157 [00:00<00:01, 72.30it/s]\u001b[A\n",
            " 20%|██        | 32/157 [00:00<00:01, 73.10it/s]\u001b[A\n",
            " 25%|██▌       | 40/157 [00:00<00:01, 73.45it/s]\u001b[A\n",
            " 31%|███       | 48/157 [00:00<00:01, 73.46it/s]\u001b[A\n",
            " 36%|███▌      | 56/157 [00:00<00:01, 73.12it/s]\u001b[A\n",
            " 41%|████      | 64/157 [00:00<00:01, 72.78it/s]\u001b[A\n",
            " 46%|████▌     | 72/157 [00:00<00:01, 72.59it/s]\u001b[A\n",
            " 51%|█████     | 80/157 [00:01<00:01, 69.31it/s]\u001b[A\n",
            " 56%|█████▌    | 88/157 [00:01<00:00, 70.23it/s]\u001b[A\n",
            " 61%|██████    | 96/157 [00:01<00:00, 71.23it/s]\u001b[A\n",
            " 66%|██████▌   | 104/157 [00:01<00:00, 72.23it/s]\u001b[A\n",
            " 71%|███████▏  | 112/157 [00:01<00:00, 73.67it/s]\u001b[A\n",
            " 76%|███████▋  | 120/157 [00:01<00:00, 74.22it/s]\u001b[A\n",
            " 82%|████████▏ | 128/157 [00:01<00:00, 74.74it/s]\u001b[A\n",
            " 87%|████████▋ | 136/157 [00:01<00:00, 71.40it/s]\u001b[A\n",
            " 92%|█████████▏| 144/157 [00:01<00:00, 71.86it/s]\u001b[A\n",
            "100%|██████████| 157/157 [00:02<00:00, 71.71it/s]\n",
            "epoch: 23, loss:1.461787: 100%|██████████| 938/938 [00:22<00:00, 41.92it/s]\n"
          ]
        },
        {
          "output_type": "stream",
          "name": "stdout",
          "text": [
            "Accuracy:  0.9704\n"
          ]
        },
        {
          "output_type": "stream",
          "name": "stderr",
          "text": [
            "epoch: 24, loss:1.461706: 100%|█████████▉| 937/938 [00:19<00:00, 47.36it/s]\n",
            "  0%|          | 0/157 [00:00<?, ?it/s]\u001b[A\n",
            "  4%|▍         | 7/157 [00:00<00:02, 65.30it/s]\u001b[A\n",
            "  9%|▉         | 14/157 [00:00<00:02, 62.49it/s]\u001b[A\n",
            " 13%|█▎        | 21/157 [00:00<00:02, 59.99it/s]\u001b[A\n",
            " 18%|█▊        | 28/157 [00:00<00:02, 63.02it/s]\u001b[A\n",
            " 23%|██▎       | 36/157 [00:00<00:01, 66.42it/s]\u001b[A\n",
            " 27%|██▋       | 43/157 [00:00<00:01, 66.98it/s]\u001b[A\n",
            " 32%|███▏      | 50/157 [00:00<00:01, 66.85it/s]\u001b[A\n",
            " 36%|███▋      | 57/157 [00:00<00:01, 66.54it/s]\u001b[A\n",
            " 41%|████      | 64/157 [00:00<00:01, 67.26it/s]\u001b[A\n",
            " 46%|████▌     | 72/157 [00:01<00:01, 70.33it/s]\u001b[A\n",
            " 51%|█████     | 80/157 [00:01<00:01, 72.52it/s]\u001b[A\n",
            " 56%|█████▌    | 88/157 [00:01<00:00, 72.29it/s]\u001b[A\n",
            " 61%|██████    | 96/157 [00:01<00:00, 73.66it/s]\u001b[A\n",
            " 66%|██████▌   | 104/157 [00:01<00:00, 74.31it/s]\u001b[A\n",
            " 71%|███████▏  | 112/157 [00:01<00:00, 74.39it/s]\u001b[A\n",
            " 76%|███████▋  | 120/157 [00:01<00:00, 74.18it/s]\u001b[A\n",
            " 82%|████████▏ | 128/157 [00:01<00:00, 70.38it/s]\u001b[A\n",
            " 87%|████████▋ | 136/157 [00:01<00:00, 72.24it/s]\u001b[A\n",
            " 92%|█████████▏| 144/157 [00:02<00:00, 72.92it/s]\u001b[A\n",
            "100%|██████████| 157/157 [00:02<00:00, 70.27it/s]\n",
            "epoch: 24, loss:1.461706: 100%|██████████| 938/938 [00:21<00:00, 42.86it/s]\n"
          ]
        },
        {
          "output_type": "stream",
          "name": "stdout",
          "text": [
            "Accuracy:  0.971\n"
          ]
        },
        {
          "output_type": "stream",
          "name": "stderr",
          "text": [
            "epoch: 25, loss:1.461643: 100%|█████████▉| 937/938 [00:19<00:00, 45.92it/s]\n",
            "  0%|          | 0/157 [00:00<?, ?it/s]\u001b[A\n",
            "  6%|▌         | 9/157 [00:00<00:01, 82.59it/s]\u001b[A\n",
            " 11%|█▏        | 18/157 [00:00<00:01, 77.95it/s]\u001b[A\n",
            " 17%|█▋        | 26/157 [00:00<00:01, 70.97it/s]\u001b[A\n",
            " 22%|██▏       | 34/157 [00:00<00:01, 72.67it/s]\u001b[A\n",
            " 27%|██▋       | 42/157 [00:00<00:01, 72.78it/s]\u001b[A\n",
            " 32%|███▏      | 50/157 [00:00<00:01, 73.08it/s]\u001b[A\n",
            " 37%|███▋      | 58/157 [00:00<00:01, 71.85it/s]\u001b[A\n",
            " 42%|████▏     | 66/157 [00:00<00:01, 72.96it/s]\u001b[A\n",
            " 47%|████▋     | 74/157 [00:01<00:01, 74.25it/s]\u001b[A\n",
            " 52%|█████▏    | 82/157 [00:01<00:01, 73.85it/s]\u001b[A\n",
            " 57%|█████▋    | 90/157 [00:01<00:00, 72.70it/s]\u001b[A\n",
            " 62%|██████▏   | 98/157 [00:01<00:00, 73.82it/s]\u001b[A\n",
            " 68%|██████▊   | 106/157 [00:01<00:00, 72.57it/s]\u001b[A\n",
            " 73%|███████▎  | 114/157 [00:01<00:00, 72.63it/s]\u001b[A\n",
            " 78%|███████▊  | 122/157 [00:01<00:00, 72.11it/s]\u001b[A\n",
            " 83%|████████▎ | 130/157 [00:01<00:00, 71.82it/s]\u001b[A\n",
            " 88%|████████▊ | 138/157 [00:01<00:00, 71.76it/s]\u001b[A\n",
            " 93%|█████████▎| 146/157 [00:02<00:00, 71.56it/s]\u001b[A\n",
            "100%|██████████| 157/157 [00:02<00:00, 72.47it/s]\n",
            "epoch: 25, loss:1.461643: 100%|██████████| 938/938 [00:21<00:00, 42.69it/s]\n"
          ]
        },
        {
          "output_type": "stream",
          "name": "stdout",
          "text": [
            "Accuracy:  0.972\n"
          ]
        },
        {
          "output_type": "stream",
          "name": "stderr",
          "text": [
            "epoch: 26, loss:1.461588: 100%|█████████▉| 937/938 [00:19<00:00, 47.32it/s]\n",
            "  0%|          | 0/157 [00:00<?, ?it/s]\u001b[A\n",
            "  6%|▌         | 9/157 [00:00<00:01, 84.68it/s]\u001b[A\n",
            " 11%|█▏        | 18/157 [00:00<00:01, 76.51it/s]\u001b[A\n",
            " 17%|█▋        | 26/157 [00:00<00:01, 73.87it/s]\u001b[A\n",
            " 22%|██▏       | 34/157 [00:00<00:01, 73.08it/s]\u001b[A\n",
            " 27%|██▋       | 42/157 [00:00<00:01, 72.50it/s]\u001b[A\n",
            " 32%|███▏      | 50/157 [00:00<00:01, 70.99it/s]\u001b[A\n",
            " 37%|███▋      | 58/157 [00:00<00:01, 71.95it/s]\u001b[A\n",
            " 42%|████▏     | 66/157 [00:00<00:01, 71.63it/s]\u001b[A\n",
            " 47%|████▋     | 74/157 [00:01<00:01, 71.16it/s]\u001b[A\n",
            " 52%|█████▏    | 82/157 [00:01<00:01, 71.99it/s]\u001b[A\n",
            " 57%|█████▋    | 90/157 [00:01<00:00, 73.15it/s]\u001b[A\n",
            " 62%|██████▏   | 98/157 [00:01<00:00, 73.71it/s]\u001b[A\n",
            " 68%|██████▊   | 106/157 [00:01<00:00, 74.61it/s]\u001b[A\n",
            " 73%|███████▎  | 114/157 [00:01<00:00, 72.69it/s]\u001b[A\n",
            " 78%|███████▊  | 122/157 [00:01<00:00, 73.24it/s]\u001b[A\n",
            " 83%|████████▎ | 130/157 [00:01<00:00, 73.72it/s]\u001b[A\n",
            " 88%|████████▊ | 138/157 [00:01<00:00, 70.91it/s]\u001b[A\n",
            " 93%|█████████▎| 146/157 [00:02<00:00, 70.34it/s]\u001b[A\n",
            "100%|██████████| 157/157 [00:02<00:00, 72.25it/s]\n",
            "epoch: 26, loss:1.461588: 100%|██████████| 938/938 [00:22<00:00, 42.28it/s]\n"
          ]
        },
        {
          "output_type": "stream",
          "name": "stdout",
          "text": [
            "Accuracy:  0.9719\n"
          ]
        },
        {
          "output_type": "stream",
          "name": "stderr",
          "text": [
            "epoch: 27, loss:1.461571: 100%|█████████▉| 937/938 [00:19<00:00, 47.47it/s]\n",
            "  0%|          | 0/157 [00:00<?, ?it/s]\u001b[A\n",
            "  5%|▌         | 8/157 [00:00<00:01, 75.87it/s]\u001b[A\n",
            " 10%|█         | 16/157 [00:00<00:01, 75.01it/s]\u001b[A\n",
            " 15%|█▌        | 24/157 [00:00<00:01, 74.72it/s]\u001b[A\n",
            " 20%|██        | 32/157 [00:00<00:01, 74.25it/s]\u001b[A\n",
            " 25%|██▌       | 40/157 [00:00<00:01, 72.57it/s]\u001b[A\n",
            " 31%|███       | 48/157 [00:00<00:01, 70.11it/s]\u001b[A\n",
            " 36%|███▌      | 56/157 [00:00<00:01, 71.00it/s]\u001b[A\n",
            " 41%|████      | 64/157 [00:00<00:01, 71.98it/s]\u001b[A\n",
            " 46%|████▌     | 72/157 [00:00<00:01, 71.88it/s]\u001b[A\n",
            " 51%|█████     | 80/157 [00:01<00:01, 71.51it/s]\u001b[A\n",
            " 56%|█████▌    | 88/157 [00:01<00:00, 71.99it/s]\u001b[A\n",
            " 61%|██████    | 96/157 [00:01<00:00, 71.11it/s]\u001b[A\n",
            " 66%|██████▌   | 104/157 [00:01<00:00, 71.13it/s]\u001b[A\n",
            " 71%|███████▏  | 112/157 [00:01<00:00, 71.50it/s]\u001b[A\n",
            " 76%|███████▋  | 120/157 [00:01<00:00, 68.91it/s]\u001b[A\n",
            " 82%|████████▏ | 128/157 [00:01<00:00, 70.39it/s]\u001b[A\n",
            " 87%|████████▋ | 136/157 [00:01<00:00, 72.18it/s]\u001b[A\n",
            " 92%|█████████▏| 144/157 [00:02<00:00, 72.73it/s]\u001b[A\n",
            "100%|██████████| 157/157 [00:02<00:00, 72.08it/s]\n",
            "epoch: 27, loss:1.461571: 100%|██████████| 938/938 [00:21<00:00, 43.01it/s]\n"
          ]
        },
        {
          "output_type": "stream",
          "name": "stdout",
          "text": [
            "Accuracy:  0.9727\n"
          ]
        },
        {
          "output_type": "stream",
          "name": "stderr",
          "text": [
            "epoch: 28, loss:1.461590: 100%|█████████▉| 937/938 [00:19<00:00, 46.12it/s]\n",
            "  0%|          | 0/157 [00:00<?, ?it/s]\u001b[A\n",
            "  5%|▌         | 8/157 [00:00<00:01, 77.89it/s]\u001b[A\n",
            " 10%|█         | 16/157 [00:00<00:01, 76.06it/s]\u001b[A\n",
            " 15%|█▌        | 24/157 [00:00<00:01, 76.64it/s]\u001b[A\n",
            " 20%|██        | 32/157 [00:00<00:01, 76.42it/s]\u001b[A\n",
            " 25%|██▌       | 40/157 [00:00<00:01, 76.10it/s]\u001b[A\n",
            " 31%|███       | 48/157 [00:00<00:01, 73.05it/s]\u001b[A\n",
            " 36%|███▌      | 56/157 [00:00<00:01, 73.29it/s]\u001b[A\n",
            " 41%|████      | 64/157 [00:00<00:01, 71.48it/s]\u001b[A\n",
            " 46%|████▌     | 72/157 [00:00<00:01, 71.62it/s]\u001b[A\n",
            " 51%|█████     | 80/157 [00:01<00:01, 71.83it/s]\u001b[A\n",
            " 56%|█████▌    | 88/157 [00:01<00:00, 73.53it/s]\u001b[A\n",
            " 61%|██████    | 96/157 [00:01<00:00, 74.46it/s]\u001b[A\n",
            " 66%|██████▌   | 104/157 [00:01<00:00, 73.28it/s]\u001b[A\n",
            " 71%|███████▏  | 112/157 [00:01<00:00, 72.11it/s]\u001b[A\n",
            " 76%|███████▋  | 120/157 [00:01<00:00, 72.37it/s]\u001b[A\n",
            " 82%|████████▏ | 128/157 [00:01<00:00, 70.99it/s]\u001b[A\n",
            " 87%|████████▋ | 136/157 [00:01<00:00, 71.14it/s]\u001b[A\n",
            " 92%|█████████▏| 144/157 [00:01<00:00, 71.57it/s]\u001b[A\n",
            "100%|██████████| 157/157 [00:02<00:00, 73.19it/s]\n",
            "epoch: 28, loss:1.461590: 100%|██████████| 938/938 [00:21<00:00, 43.96it/s]\n"
          ]
        },
        {
          "output_type": "stream",
          "name": "stdout",
          "text": [
            "Accuracy:  0.9729\n"
          ]
        },
        {
          "output_type": "stream",
          "name": "stderr",
          "text": [
            "epoch: 29, loss:1.461639: 100%|█████████▉| 937/938 [00:19<00:00, 47.54it/s]\n",
            "  0%|          | 0/157 [00:00<?, ?it/s]\u001b[A\n",
            "  5%|▌         | 8/157 [00:00<00:01, 76.65it/s]\u001b[A\n",
            " 10%|█         | 16/157 [00:00<00:01, 73.98it/s]\u001b[A\n",
            " 15%|█▌        | 24/157 [00:00<00:01, 74.21it/s]\u001b[A\n",
            " 20%|██        | 32/157 [00:00<00:01, 73.50it/s]\u001b[A\n",
            " 25%|██▌       | 40/157 [00:00<00:01, 72.07it/s]\u001b[A\n",
            " 31%|███       | 48/157 [00:00<00:01, 72.05it/s]\u001b[A\n",
            " 36%|███▌      | 56/157 [00:00<00:01, 72.38it/s]\u001b[A\n",
            " 41%|████      | 64/157 [00:00<00:01, 71.73it/s]\u001b[A\n",
            " 46%|████▌     | 72/157 [00:01<00:01, 67.88it/s]\u001b[A\n",
            " 51%|█████     | 80/157 [00:01<00:01, 69.79it/s]\u001b[A\n",
            " 56%|█████▌    | 88/157 [00:01<00:00, 70.61it/s]\u001b[A\n",
            " 61%|██████    | 96/157 [00:01<00:00, 71.20it/s]\u001b[A\n",
            " 66%|██████▌   | 104/157 [00:01<00:00, 70.48it/s]\u001b[A\n",
            " 71%|███████▏  | 112/157 [00:01<00:00, 71.59it/s]\u001b[A\n",
            " 76%|███████▋  | 120/157 [00:01<00:00, 71.04it/s]\u001b[A\n",
            " 82%|████████▏ | 128/157 [00:01<00:00, 69.86it/s]\u001b[A\n",
            " 86%|████████▌ | 135/157 [00:01<00:00, 67.68it/s]\u001b[A\n",
            " 90%|█████████ | 142/157 [00:02<00:00, 62.17it/s]\u001b[A\n",
            "100%|██████████| 157/157 [00:02<00:00, 69.82it/s]\n",
            "epoch: 29, loss:1.461639: 100%|██████████| 938/938 [00:21<00:00, 43.38it/s]\n"
          ]
        },
        {
          "output_type": "stream",
          "name": "stdout",
          "text": [
            "Accuracy:  0.9733\n"
          ]
        },
        {
          "output_type": "stream",
          "name": "stderr",
          "text": [
            "epoch: 30, loss:1.461641: 100%|█████████▉| 937/938 [00:19<00:00, 46.96it/s]\n",
            "  0%|          | 0/157 [00:00<?, ?it/s]\u001b[A\n",
            "  6%|▌         | 9/157 [00:00<00:01, 81.52it/s]\u001b[A\n",
            " 11%|█▏        | 18/157 [00:00<00:01, 75.30it/s]\u001b[A\n",
            " 17%|█▋        | 26/157 [00:00<00:01, 74.53it/s]\u001b[A\n",
            " 22%|██▏       | 34/157 [00:00<00:01, 73.09it/s]\u001b[A\n",
            " 27%|██▋       | 42/157 [00:00<00:01, 71.36it/s]\u001b[A\n",
            " 32%|███▏      | 50/157 [00:00<00:01, 71.87it/s]\u001b[A\n",
            " 37%|███▋      | 58/157 [00:00<00:01, 71.64it/s]\u001b[A\n",
            " 42%|████▏     | 66/157 [00:00<00:01, 72.39it/s]\u001b[A\n",
            " 47%|████▋     | 74/157 [00:01<00:01, 73.13it/s]\u001b[A\n",
            " 52%|█████▏    | 82/157 [00:01<00:01, 72.89it/s]\u001b[A\n",
            " 57%|█████▋    | 90/157 [00:01<00:00, 72.98it/s]\u001b[A\n",
            " 62%|██████▏   | 98/157 [00:01<00:00, 72.84it/s]\u001b[A\n",
            " 68%|██████▊   | 106/157 [00:01<00:00, 73.25it/s]\u001b[A\n",
            " 73%|███████▎  | 114/157 [00:01<00:00, 72.40it/s]\u001b[A\n",
            " 78%|███████▊  | 122/157 [00:01<00:00, 72.85it/s]\u001b[A\n",
            " 83%|████████▎ | 130/157 [00:01<00:00, 73.79it/s]\u001b[A\n",
            " 88%|████████▊ | 138/157 [00:01<00:00, 74.89it/s]\u001b[A\n",
            " 93%|█████████▎| 146/157 [00:01<00:00, 74.42it/s]\u001b[A\n",
            "100%|██████████| 157/157 [00:02<00:00, 73.16it/s]\n",
            "epoch: 30, loss:1.461641: 100%|██████████| 938/938 [00:21<00:00, 42.81it/s]\n"
          ]
        },
        {
          "output_type": "stream",
          "name": "stdout",
          "text": [
            "Accuracy:  0.9738\n"
          ]
        },
        {
          "output_type": "stream",
          "name": "stderr",
          "text": [
            "epoch: 31, loss:1.461627: 100%|█████████▉| 937/938 [00:19<00:00, 48.64it/s]\n",
            "  0%|          | 0/157 [00:00<?, ?it/s]\u001b[A\n",
            "  4%|▍         | 7/157 [00:00<00:02, 69.05it/s]\u001b[A\n",
            "  9%|▉         | 14/157 [00:00<00:02, 68.70it/s]\u001b[A\n",
            " 14%|█▍        | 22/157 [00:00<00:01, 70.45it/s]\u001b[A\n",
            " 19%|█▉        | 30/157 [00:00<00:01, 71.60it/s]\u001b[A\n",
            " 24%|██▍       | 38/157 [00:00<00:01, 71.09it/s]\u001b[A\n",
            " 29%|██▉       | 46/157 [00:00<00:01, 70.87it/s]\u001b[A\n",
            " 34%|███▍      | 54/157 [00:00<00:01, 68.28it/s]\u001b[A\n",
            " 39%|███▉      | 62/157 [00:00<00:01, 69.68it/s]\u001b[A\n",
            " 44%|████▍     | 69/157 [00:00<00:01, 68.50it/s]\u001b[A\n",
            " 49%|████▉     | 77/157 [00:01<00:01, 70.15it/s]\u001b[A\n",
            " 54%|█████▍    | 85/157 [00:01<00:01, 71.54it/s]\u001b[A\n",
            " 59%|█████▉    | 93/157 [00:01<00:00, 70.47it/s]\u001b[A\n",
            " 64%|██████▍   | 101/157 [00:01<00:00, 71.15it/s]\u001b[A\n",
            " 69%|██████▉   | 109/157 [00:01<00:00, 71.55it/s]\u001b[A\n",
            " 75%|███████▍  | 117/157 [00:01<00:00, 70.86it/s]\u001b[A\n",
            " 80%|███████▉  | 125/157 [00:01<00:00, 69.01it/s]\u001b[A\n",
            " 84%|████████▍ | 132/157 [00:01<00:00, 68.95it/s]\u001b[A\n",
            " 89%|████████▉ | 140/157 [00:02<00:00, 69.80it/s]\u001b[A\n",
            " 94%|█████████▍| 148/157 [00:02<00:00, 70.54it/s]\u001b[A\n",
            "100%|██████████| 157/157 [00:02<00:00, 69.82it/s]\n",
            "epoch: 31, loss:1.461627: 100%|██████████| 938/938 [00:21<00:00, 43.54it/s]\n"
          ]
        },
        {
          "output_type": "stream",
          "name": "stdout",
          "text": [
            "Accuracy:  0.9744\n"
          ]
        },
        {
          "output_type": "stream",
          "name": "stderr",
          "text": [
            "epoch: 32, loss:1.461594: 100%|█████████▉| 937/938 [00:19<00:00, 48.84it/s]\n",
            "  0%|          | 0/157 [00:00<?, ?it/s]\u001b[A\n",
            "  6%|▌         | 9/157 [00:00<00:01, 81.32it/s]\u001b[A\n",
            " 11%|█▏        | 18/157 [00:00<00:01, 77.31it/s]\u001b[A\n",
            " 17%|█▋        | 26/157 [00:00<00:01, 76.73it/s]\u001b[A\n",
            " 22%|██▏       | 34/157 [00:00<00:01, 76.19it/s]\u001b[A\n",
            " 27%|██▋       | 42/157 [00:00<00:01, 75.75it/s]\u001b[A\n",
            " 32%|███▏      | 50/157 [00:00<00:01, 75.95it/s]\u001b[A\n",
            " 37%|███▋      | 58/157 [00:00<00:01, 74.41it/s]\u001b[A\n",
            " 42%|████▏     | 66/157 [00:00<00:01, 73.20it/s]\u001b[A\n",
            " 47%|████▋     | 74/157 [00:00<00:01, 74.84it/s]\u001b[A\n",
            " 52%|█████▏    | 82/157 [00:01<00:00, 76.00it/s]\u001b[A\n",
            " 57%|█████▋    | 90/157 [00:01<00:00, 76.16it/s]\u001b[A\n",
            " 62%|██████▏   | 98/157 [00:01<00:00, 75.22it/s]\u001b[A\n",
            " 68%|██████▊   | 106/157 [00:01<00:00, 75.34it/s]\u001b[A\n",
            " 73%|███████▎  | 114/157 [00:01<00:00, 75.37it/s]\u001b[A\n",
            " 78%|███████▊  | 122/157 [00:01<00:00, 75.84it/s]\u001b[A\n",
            " 83%|████████▎ | 130/157 [00:01<00:00, 76.07it/s]\u001b[A\n",
            " 88%|████████▊ | 138/157 [00:01<00:00, 72.57it/s]\u001b[A\n",
            " 93%|█████████▎| 146/157 [00:01<00:00, 74.23it/s]\u001b[A\n",
            "100%|██████████| 157/157 [00:02<00:00, 75.25it/s]\n",
            "epoch: 32, loss:1.461594: 100%|██████████| 938/938 [00:21<00:00, 43.94it/s]\n"
          ]
        },
        {
          "output_type": "stream",
          "name": "stdout",
          "text": [
            "Accuracy:  0.9745\n"
          ]
        },
        {
          "output_type": "stream",
          "name": "stderr",
          "text": [
            "epoch: 33, loss:1.461583: 100%|█████████▉| 937/938 [00:19<00:00, 46.62it/s]\n",
            "  0%|          | 0/157 [00:00<?, ?it/s]\u001b[A\n",
            "  5%|▌         | 8/157 [00:00<00:01, 79.40it/s]\u001b[A\n",
            " 10%|█         | 16/157 [00:00<00:01, 71.94it/s]\u001b[A\n",
            " 15%|█▌        | 24/157 [00:00<00:01, 74.28it/s]\u001b[A\n",
            " 20%|██        | 32/157 [00:00<00:01, 75.42it/s]\u001b[A\n",
            " 25%|██▌       | 40/157 [00:00<00:01, 75.39it/s]\u001b[A\n",
            " 31%|███       | 48/157 [00:00<00:01, 74.13it/s]\u001b[A\n",
            " 36%|███▌      | 56/157 [00:00<00:01, 73.14it/s]\u001b[A\n",
            " 41%|████      | 64/157 [00:00<00:01, 74.20it/s]\u001b[A\n",
            " 46%|████▌     | 72/157 [00:00<00:01, 75.22it/s]\u001b[A\n",
            " 51%|█████     | 80/157 [00:01<00:01, 75.20it/s]\u001b[A\n",
            " 56%|█████▌    | 88/157 [00:01<00:00, 74.50it/s]\u001b[A\n",
            " 61%|██████    | 96/157 [00:01<00:00, 73.60it/s]\u001b[A\n",
            " 66%|██████▌   | 104/157 [00:01<00:00, 72.47it/s]\u001b[A\n",
            " 71%|███████▏  | 112/157 [00:01<00:00, 72.87it/s]\u001b[A\n",
            " 76%|███████▋  | 120/157 [00:01<00:00, 73.74it/s]\u001b[A\n",
            " 82%|████████▏ | 128/157 [00:01<00:00, 72.81it/s]\u001b[A\n",
            " 87%|████████▋ | 136/157 [00:01<00:00, 70.78it/s]\u001b[A\n",
            " 92%|█████████▏| 144/157 [00:01<00:00, 72.71it/s]\u001b[A\n",
            "100%|██████████| 157/157 [00:02<00:00, 73.67it/s]\n",
            "epoch: 33, loss:1.461583: 100%|██████████| 938/938 [00:21<00:00, 43.21it/s]\n"
          ]
        },
        {
          "output_type": "stream",
          "name": "stdout",
          "text": [
            "Accuracy:  0.9749\n"
          ]
        },
        {
          "output_type": "stream",
          "name": "stderr",
          "text": [
            "epoch: 34, loss:1.461549: 100%|██████████| 938/938 [00:19<00:00, 47.40it/s]\n",
            "  0%|          | 0/157 [00:00<?, ?it/s]\u001b[A\n",
            "  5%|▌         | 8/157 [00:00<00:01, 75.72it/s]\u001b[A\n",
            " 10%|█         | 16/157 [00:00<00:01, 70.60it/s]\u001b[A\n",
            " 15%|█▌        | 24/157 [00:00<00:01, 69.15it/s]\u001b[A\n",
            " 20%|██        | 32/157 [00:00<00:01, 71.91it/s]\u001b[A\n",
            " 25%|██▌       | 40/157 [00:00<00:01, 70.81it/s]\u001b[A\n",
            " 31%|███       | 48/157 [00:00<00:01, 72.73it/s]\u001b[A\n",
            " 36%|███▌      | 56/157 [00:00<00:01, 74.06it/s]\u001b[A\n",
            " 41%|████      | 64/157 [00:00<00:01, 74.28it/s]\u001b[A\n",
            " 46%|████▌     | 72/157 [00:00<00:01, 74.52it/s]\u001b[A\n",
            " 51%|█████     | 80/157 [00:01<00:01, 75.13it/s]\u001b[A\n",
            " 56%|█████▌    | 88/157 [00:01<00:00, 75.29it/s]\u001b[A\n",
            " 62%|██████▏   | 97/157 [00:01<00:00, 77.22it/s]\u001b[A\n",
            " 67%|██████▋   | 105/157 [00:01<00:00, 72.11it/s]\u001b[A\n",
            " 72%|███████▏  | 113/157 [00:01<00:00, 70.94it/s]\u001b[A\n",
            " 77%|███████▋  | 121/157 [00:01<00:00, 70.52it/s]\u001b[A\n",
            " 82%|████████▏ | 129/157 [00:01<00:00, 70.16it/s]\u001b[A\n",
            " 87%|████████▋ | 137/157 [00:01<00:00, 70.94it/s]\u001b[A\n",
            " 92%|█████████▏| 145/157 [00:02<00:00, 71.62it/s]\u001b[A\n",
            "100%|██████████| 157/157 [00:02<00:00, 72.56it/s]\n",
            "epoch: 34, loss:1.461549: 100%|██████████| 938/938 [00:22<00:00, 42.59it/s]"
          ]
        },
        {
          "output_type": "stream",
          "name": "stdout",
          "text": [
            "Accuracy:  0.9753\n"
          ]
        },
        {
          "output_type": "stream",
          "name": "stderr",
          "text": [
            "\n"
          ]
        }
      ]
    },
    {
      "cell_type": "code",
      "source": [
        "test_img.shape"
      ],
      "metadata": {
        "colab": {
          "base_uri": "https://localhost:8080/"
        },
        "id": "vANqclez02i0",
        "outputId": "c5b3af8b-1b4b-4c82-e506-35f5f9d743d4"
      },
      "execution_count": 55,
      "outputs": [
        {
          "output_type": "execute_result",
          "data": {
            "text/plain": [
              "torch.Size([1, 784])"
            ]
          },
          "metadata": {},
          "execution_count": 55
        }
      ]
    },
    {
      "cell_type": "code",
      "source": [
        "output = model(test_img)\n",
        "output"
      ],
      "metadata": {
        "colab": {
          "base_uri": "https://localhost:8080/"
        },
        "id": "51aVviuy07hY",
        "outputId": "221be548-10dd-46bf-a9ca-2ea8490f5626"
      },
      "execution_count": 56,
      "outputs": [
        {
          "output_type": "execute_result",
          "data": {
            "text/plain": [
              "tensor([[1.3887e-10, 3.2041e-11, 2.1858e-10, 9.2166e-15, 1.0000e+00, 4.3202e-08,\n",
              "         4.4387e-08, 3.8371e-10, 5.7197e-09, 1.2992e-06]],\n",
              "       grad_fn=<SoftmaxBackward0>)"
            ]
          },
          "metadata": {},
          "execution_count": 56
        }
      ]
    },
    {
      "cell_type": "code",
      "source": [
        "4"
      ],
      "metadata": {
        "id": "ROg8kpzR2tT2"
      },
      "execution_count": null,
      "outputs": []
    }
  ]
}